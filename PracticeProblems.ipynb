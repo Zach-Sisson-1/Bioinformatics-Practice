{
 "cells": [
  {
   "cell_type": "markdown",
   "metadata": {},
   "source": [
    "# All Exercises Taken From PracticePython.org (35 in total)"
   ]
  },
  {
   "cell_type": "markdown",
   "metadata": {},
   "source": [
    "# Level 1 Difficulty "
   ]
  },
  {
   "cell_type": "markdown",
   "metadata": {},
   "source": [
    "## 1) Character Input:"
   ]
  },
  {
   "cell_type": "markdown",
   "metadata": {},
   "source": [
    "Task: Create a program that asks the user to enter their name and their age. Print out a message addressed to them that tells them the year that they will turn 100 years old. "
   ]
  },
  {
   "cell_type": "code",
   "execution_count": 30,
   "metadata": {},
   "outputs": [
    {
     "name": "stdout",
     "output_type": "stream",
     "text": [
      "What is your name? Zach\n",
      "What is your age? 25\n",
      "Zach, you will turn 100 in the year 2096\n"
     ]
    }
   ],
   "source": [
    "def aging():\n",
    "    name = input(\"What is your name? \")\n",
    "    age = int(input(\"What is your age? \"))\n",
    "    century_year = str((2021+(100-age)))\n",
    "    return str(name + ', you will turn 100 in the year '+century_year)\n",
    "\n",
    "print(aging())"
   ]
  },
  {
   "cell_type": "markdown",
   "metadata": {},
   "source": [
    "Additional: Add on to the previous program by asking the user for another number and printing out that many copies of the previous message. \n",
    "\n",
    "Additional: Print out that many copies of the previous message on separate lines."
   ]
  },
  {
   "cell_type": "code",
   "execution_count": 44,
   "metadata": {},
   "outputs": [
    {
     "name": "stdout",
     "output_type": "stream",
     "text": [
      "What is your name? Zach\n",
      "What is your age? 25\n",
      "How many copies of the message would you like to see printed? 5\n",
      "Zach, you will turn 100 in the year 2096. \n",
      "Zach, you will turn 100 in the year 2096. \n",
      "Zach, you will turn 100 in the year 2096. \n",
      "Zach, you will turn 100 in the year 2096. \n",
      "Zach, you will turn 100 in the year 2096. \n"
     ]
    }
   ],
   "source": [
    "def aging():\n",
    "    name = input(\"What is your name? \")\n",
    "    age = int(input(\"What is your age? \"))\n",
    "    copy_number = int(input(\"How many copies of the message would you like to see printed? \"))\n",
    "    century_year = str((2021+(100-age)))\n",
    "    for i in range(copy_number):\n",
    "         print(str(name + ', you will turn 100 in the year '+century_year + '. '))\n",
    "    return\n",
    "\n",
    "aging()"
   ]
  },
  {
   "cell_type": "markdown",
   "metadata": {},
   "source": [
    "## 2) Odd or Even"
   ]
  },
  {
   "cell_type": "markdown",
   "metadata": {},
   "source": [
    "Ask the user for a number. Depending on whether the number is even or odd, print out an appropriate message to the user.\n",
    "\n",
    "Extras:\n",
    "\n",
    "If the number is a multiple of 4, print out a different message.\n",
    "\n",
    "Ask the user for two numbers: one number to check (call it num) and one number to divide by (check). If check divides evenly into num, tell that to the user. If not, print a different appropriate message."
   ]
  },
  {
   "cell_type": "code",
   "execution_count": 94,
   "metadata": {},
   "outputs": [
    {
     "name": "stdout",
     "output_type": "stream",
     "text": [
      "Please enter an integer number 23\n",
      "Please enter an integer number to divide by 11\n",
      "23 is an odd number.\n",
      "Additionally, 23 can not be evenly divded by 11.\n",
      "\n",
      "\n",
      "Please enter an integer number 13\n",
      "Please enter an integer number to divide by 1\n",
      "13 is an odd number.\n",
      "Additionally, 13 can be evenly divded by 1 and does so 13 time(s).\n",
      "\n",
      "\n",
      "Please enter an integer number 24\n",
      "Please enter an integer number to divide by 8\n",
      "24 is divisble by 4.\n",
      "Additionally, 24 can be evenly divded by 8 and does so 3 time(s).\n",
      "\n",
      "\n",
      "Please enter an integer number 194\n",
      "Please enter an integer number to divide by 8\n",
      "194 is an even number.\n",
      "Additionally, 194 can not be evenly divded by 8.\n"
     ]
    }
   ],
   "source": [
    "def odd_or_even():\n",
    "    num = int(input(\"Please enter an integer number \"))\n",
    "    check = int(input(\"Please enter an integer number to divide by \"))\n",
    "    division = int(num/check)\n",
    "    if (num % 2) == 0 and (num % 4) != 0:\n",
    "        print(str(num)+' is an even number.')\n",
    "    elif (num % 4) == 0:\n",
    "        print(str(num)+' is divisble by 4.')\n",
    "    else:\n",
    "        print(str(num)+' is an odd number.')\n",
    "    if (num % check) == 0:\n",
    "        print('Additionally, ' + str(num)+ ' can be evenly divded by ' + str(check) + ' and does so '+ str(division) + ' time(s).')\n",
    "    else:\n",
    "         print('Additionally, ' + str(num)+ ' can not be evenly divded by ' + str(check) + '.')\n",
    "    return\n",
    "\n",
    "odd_or_even()\n",
    "print('\\n')\n",
    "odd_or_even()\n",
    "print('\\n')\n",
    "odd_or_even()\n",
    "print('\\n')\n",
    "odd_or_even()"
   ]
  },
  {
   "cell_type": "markdown",
   "metadata": {},
   "source": [
    "## 3) List Ends"
   ]
  },
  {
   "cell_type": "markdown",
   "metadata": {},
   "source": [
    "Write a program that takes a list of numbers (for example, a = [5, 10, 15, 20, 25]) and makes a new list of only the first and last elements of the given list. For practice, write this code inside a function."
   ]
  },
  {
   "cell_type": "code",
   "execution_count": 151,
   "metadata": {},
   "outputs": [
    {
     "name": "stdout",
     "output_type": "stream",
     "text": [
      "How many items will be in the list? 4\n",
      "Please begin entering your list of integers now, hit enter after each entry:\n",
      " 1\n",
      " 2\n",
      " 3\n",
      " 4\n",
      "The list you entered is [1, 2, 3, 4]\n",
      "Is this list correct (y/n)? y\n",
      "Here is a list containing only the first and last element of the list you entered: [1, 4]\n",
      "\n",
      "\n",
      "How many items will be in the list? 3\n",
      "Please begin entering your list of integers now, hit enter after each entry:\n",
      " 4\n",
      " 5\n",
      " 6\n",
      "The list you entered is [4, 5, 6]\n",
      "Is this list correct (y/n)? n\n",
      "Ok, would you like to start over? (y/n)y\n",
      "How many items will be in the list? 4\n",
      "Please begin entering your list of integers now, hit enter after each entry:\n",
      " 3\n",
      " 4\n",
      " 5\n",
      " 6\n",
      "The list you entered is [3, 4, 5, 6]\n",
      "Is this list correct (y/n)? y\n",
      "Here is a list containing only the first and last element of the list you entered: [3, 6]\n"
     ]
    }
   ],
   "source": [
    "def list_end():\n",
    "    lst = []\n",
    "    \n",
    "    #asks user to specify length of list\n",
    "    n = int(input('How many items will be in the list? '))\n",
    "    \n",
    "    print('Please begin entering your list of integers now, hit enter after each entry:')\n",
    "    for i in range(0,n):\n",
    "        lst.append(int(input(' ')))\n",
    "    print('The list you entered is ' + str(lst))\n",
    "    answer = input('Is this list correct (y/n)? ')\n",
    "    if answer == 'y':\n",
    "        new_lst = []\n",
    "        new_lst.append(lst[0])\n",
    "        new_lst.append(lst[-1])\n",
    "        print('Here is a list containing only the first and last element of the list you entered: '+ str(new_lst))\n",
    "    # if list entered was incorrect, user will be prompted to start over\n",
    "    else:\n",
    "        if input('Ok, would you like to start over? (y/n)') == 'y':\n",
    "            list_end()\n",
    "        else:\n",
    "            print(\"Ok, goodbye.\")\n",
    "    return\n",
    "       \n",
    "list_end()\n",
    "print('\\n')\n",
    "list_end()\n"
   ]
  },
  {
   "cell_type": "markdown",
   "metadata": {},
   "source": [
    "Alternatively, Having the user enter all items in one line:"
   ]
  },
  {
   "cell_type": "code",
   "execution_count": 159,
   "metadata": {},
   "outputs": [
    {
     "name": "stdout",
     "output_type": "stream",
     "text": [
      "Please enter your list of integers now, each item followed by a space: 1 2 3 4 5\n",
      "The list you entered is [1, 2, 3, 4, 5]\n",
      "Is this list correct (y/n)? n\n",
      "Ok, would you like to start over? (y/n)y\n",
      "\n",
      "\n",
      "Please enter your list of integers now, each item followed by a space: 12 23 14 15\n",
      "The list you entered is [12, 23, 14, 15]\n",
      "Is this list correct (y/n)? y\n",
      "Here is a list containing only the first and last element of the list you entered: [12, 15]\n"
     ]
    }
   ],
   "source": [
    "def list_end():\n",
    "    lst = [int(item) for item in input(\"Please enter your list of integers now, each item followed by a space: \").split()]\n",
    "    print('The list you entered is ' + str(lst))\n",
    "    answer = input('Is this list correct (y/n)? ')\n",
    "    if answer == 'y':\n",
    "        new_lst = []\n",
    "        new_lst.append(lst[0])\n",
    "        new_lst.append(lst[-1])\n",
    "        print('Here is a list containing only the first and last element of the list you entered: '+ str(new_lst))\n",
    "    # if list entered was incorrect, user will be prompted to start over\n",
    "    else:\n",
    "        if input('Ok, would you like to start over? (y/n)') == 'y':\n",
    "            print ('\\n')\n",
    "            list_end()\n",
    "        else:\n",
    "            print(\"Ok, goodbye.\")\n",
    "    return\n",
    "       \n",
    "list_end()"
   ]
  },
  {
   "cell_type": "markdown",
   "metadata": {},
   "source": [
    "## 4) Element Search"
   ]
  },
  {
   "cell_type": "markdown",
   "metadata": {},
   "source": [
    "Write a function that takes an ordered list of numbers (a list where the elements are in order from smallest to largest) and another number. The function decides whether or not the given number is inside the list and returns (then prints) an appropriate boolean.\n",
    "\n",
    "Extras:\n",
    "Input is an unordered list and \n",
    "use binary search."
   ]
  },
  {
   "cell_type": "markdown",
   "metadata": {},
   "source": [
    " Without binary search:"
   ]
  },
  {
   "cell_type": "code",
   "execution_count": 203,
   "metadata": {},
   "outputs": [
    {
     "name": "stdout",
     "output_type": "stream",
     "text": [
      "Please enter a list of numbers, each number followed by a space: 9 8 7 6 5 4\n",
      "The list you entered is [9, 8, 7, 6, 5, 4]\n",
      "Is this list correct (y/n)? y\n",
      "Ok, thanks. Next, I will print out the same list of numbers in the order of smallest to largest, \n",
      " please press enter to continue...\n",
      "[4, 5, 6, 7, 8, 9]\n",
      "Now, you may enter any number and I will tell you if it is in the list 7\n",
      "The number 7 is in the list.\n",
      "\n",
      "\n",
      "Please enter a list of numbers, each number followed by a space: 1 2 3 4 5\n",
      "The list you entered is [1, 2, 3, 4, 5]\n",
      "Is this list correct (y/n)? n\n",
      "Ok, would you like to start over? (y/n)y\n",
      "\n",
      "\n",
      "Please enter a list of numbers, each number followed by a space: 6 5 4  3 2 1\n",
      "The list you entered is [6, 5, 4, 3, 2, 1]\n",
      "Is this list correct (y/n)? y\n",
      "Ok, thanks. Next, I will print out the same list of numbers in the order of smallest to largest, \n",
      " please press enter to continue...\n",
      "[1, 2, 3, 4, 5, 6]\n",
      "Now, you may enter any number and I will tell you if it is in the list 8\n",
      "The number is not in the list.\n"
     ]
    }
   ],
   "source": [
    "def ele_search():\n",
    "    lst = [int(item) for item in input(\"Please enter a list of numbers, each number followed by a space: \").split()]\n",
    "    print('The list you entered is ' + str(lst))\n",
    "    answer = input('Is this list correct (y/n)? ')\n",
    "    if answer == 'y':\n",
    "        input('Ok, thanks. Next, I will print out the same list of numbers in the order of smallest to largest, \\n please press enter to continue...')\n",
    "        lst.sort()\n",
    "        print(lst)\n",
    "        search_val = input(\"Now, you may enter any number and I will tell you if it is in the list \")\n",
    "        \n",
    "        # Compares every item from start to finish\n",
    "        if str(search_val) in str(lst):\n",
    "            print(\"The number \"+ str(search_val)+ \" is in the list.\")\n",
    "        else: \n",
    "            print(\"The number is not in the list.\")\n",
    "                \n",
    "        \n",
    "    # if list entered was incorrect, user will be prompted to start over\n",
    "    else:\n",
    "        if input('Ok, would you like to start over? (y/n)') == 'y':\n",
    "            print ('\\n')\n",
    "            ele_search()\n",
    "        else:\n",
    "            print(\"Ok, goodbye.\")\n",
    "    return\n",
    "       \n",
    "ele_search()\n",
    "print('\\n')\n",
    "ele_search()"
   ]
  },
  {
   "cell_type": "markdown",
   "metadata": {},
   "source": [
    "Using a binary search and defining function argument and parameters:"
   ]
  },
  {
   "cell_type": "code",
   "execution_count": 31,
   "metadata": {},
   "outputs": [
    {
     "name": "stdout",
     "output_type": "stream",
     "text": [
      "Please enter an integer number between 1-200 to search the lists for 78\n",
      "[1, 6, 9, 10, 20, 27, 28, 35, 38, 43, 45, 63, 66, 71, 76, 81, 83, 85, 92, 93, 93, 98, 102, 108, 109, 113, 115, 130, 132, 140, 141, 142, 143, 144, 149, 150, 153, 153, 154, 155, 164, 166, 171, 181, 182, 183, 183, 189, 193, 196]\n",
      "25\n",
      "13\n",
      "31\n",
      "22\n",
      "8\n",
      "29\n",
      "19\n",
      "4\n",
      "27\n",
      "16\n",
      "-1\n",
      "-26\n",
      "-64\n"
     ]
    },
    {
     "ename": "IndexError",
     "evalue": "list index out of range",
     "output_type": "error",
     "traceback": [
      "\u001b[0;31m---------------------------------------------------------------------------\u001b[0m",
      "\u001b[0;31mIndexError\u001b[0m                                Traceback (most recent call last)",
      "\u001b[0;32m<ipython-input-31-1ae185f67a6d>\u001b[0m in \u001b[0;36m<module>\u001b[0;34m\u001b[0m\n\u001b[1;32m     40\u001b[0m \u001b[0;34m\u001b[0m\u001b[0m\n\u001b[1;32m     41\u001b[0m \u001b[0;34m\u001b[0m\u001b[0m\n\u001b[0;32m---> 42\u001b[0;31m \u001b[0mele_search\u001b[0m\u001b[0;34m(\u001b[0m\u001b[0mlst1\u001b[0m\u001b[0;34m)\u001b[0m\u001b[0;34m\u001b[0m\u001b[0;34m\u001b[0m\u001b[0m\n\u001b[0m\u001b[1;32m     43\u001b[0m \u001b[0mele_search\u001b[0m\u001b[0;34m(\u001b[0m\u001b[0mlst2\u001b[0m\u001b[0;34m)\u001b[0m\u001b[0;34m\u001b[0m\u001b[0;34m\u001b[0m\u001b[0m\n\u001b[1;32m     44\u001b[0m \u001b[0mele_search\u001b[0m\u001b[0;34m(\u001b[0m\u001b[0mlst3\u001b[0m\u001b[0;34m)\u001b[0m\u001b[0;34m\u001b[0m\u001b[0;34m\u001b[0m\u001b[0m\n",
      "\u001b[0;32m<ipython-input-31-1ae185f67a6d>\u001b[0m in \u001b[0;36mele_search\u001b[0;34m(lst)\u001b[0m\n\u001b[1;32m     23\u001b[0m     \u001b[0mprint\u001b[0m\u001b[0;34m(\u001b[0m\u001b[0mindex\u001b[0m\u001b[0;34m)\u001b[0m\u001b[0;34m\u001b[0m\u001b[0;34m\u001b[0m\u001b[0m\n\u001b[1;32m     24\u001b[0m     \u001b[0mtruth_value\u001b[0m \u001b[0;34m=\u001b[0m \u001b[0;36m2\u001b[0m\u001b[0;34m\u001b[0m\u001b[0;34m\u001b[0m\u001b[0m\n\u001b[0;32m---> 25\u001b[0;31m     \u001b[0;32mwhile\u001b[0m \u001b[0mlst\u001b[0m\u001b[0;34m[\u001b[0m\u001b[0mindex\u001b[0m\u001b[0;34m]\u001b[0m \u001b[0;34m!=\u001b[0m \u001b[0ma\u001b[0m\u001b[0;34m:\u001b[0m\u001b[0;34m\u001b[0m\u001b[0;34m\u001b[0m\u001b[0m\n\u001b[0m\u001b[1;32m     26\u001b[0m         \u001b[0;32mif\u001b[0m \u001b[0mlst\u001b[0m\u001b[0;34m[\u001b[0m\u001b[0mindex\u001b[0m\u001b[0;34m]\u001b[0m \u001b[0;34m>\u001b[0m \u001b[0ma\u001b[0m\u001b[0;34m:\u001b[0m\u001b[0;34m\u001b[0m\u001b[0;34m\u001b[0m\u001b[0m\n\u001b[1;32m     27\u001b[0m             \u001b[0mindex\u001b[0m \u001b[0;34m-=\u001b[0m \u001b[0mint\u001b[0m\u001b[0;34m(\u001b[0m\u001b[0;34m(\u001b[0m\u001b[0mlen\u001b[0m\u001b[0;34m(\u001b[0m\u001b[0mlst\u001b[0m\u001b[0;34m)\u001b[0m\u001b[0;34m-\u001b[0m\u001b[0mindex\u001b[0m\u001b[0;34m)\u001b[0m\u001b[0;34m/\u001b[0m\u001b[0;36m2\u001b[0m\u001b[0;34m)\u001b[0m\u001b[0;34m\u001b[0m\u001b[0;34m\u001b[0m\u001b[0m\n",
      "\u001b[0;31mIndexError\u001b[0m: list index out of range"
     ]
    }
   ],
   "source": [
    "#First, generate a few lists of random numbers...\n",
    "import random\n",
    "lst1 =[]\n",
    "lst2 =[]\n",
    "lst3 = []\n",
    "for i in range(0,50):\n",
    "    m = random.randint(1,200)\n",
    "    n = random.randint(1,200)\n",
    "    o = random.randint(1,200)\n",
    "    lst1.append(m)\n",
    "    lst2.append(n)\n",
    "    lst3.append(o)\n",
    "    \n",
    "    \n",
    "\n",
    " # Uses binary tree search\n",
    "def ele_search(lst):\n",
    "    a = int(input(\"Please enter an integer number between 1-200 to search the lists for \"))\n",
    "    lst.sort()\n",
    "    print(lst)\n",
    "    \n",
    "    index = int((len(lst))/2)\n",
    "    print(index)\n",
    "    truth_value = 2\n",
    "    while lst[index] != a:\n",
    "        if lst[index] > a:\n",
    "            index -= int((len(lst)-index)/2)\n",
    "            print(index)\n",
    "        else: \n",
    "            index += int((len(lst)-index)/2)\n",
    "            print(index)\n",
    "    print(\"done.\")\n",
    "        \n",
    "\n",
    "            \n",
    "\n",
    "              \n",
    "      \n",
    "                \n",
    "  \n",
    "       \n",
    "ele_search(lst1)\n",
    "ele_search(lst2)\n",
    "ele_search(lst3)"
   ]
  },
  {
   "cell_type": "code",
   "execution_count": 28,
   "metadata": {},
   "outputs": [
    {
     "ename": "NameError",
     "evalue": "name 'truth_value' is not defined",
     "output_type": "error",
     "traceback": [
      "\u001b[0;31m---------------------------------------------------------------------------\u001b[0m",
      "\u001b[0;31mNameError\u001b[0m                                 Traceback (most recent call last)",
      "\u001b[0;32m<ipython-input-28-cd3be88bbf8f>\u001b[0m in \u001b[0;36m<module>\u001b[0;34m\u001b[0m\n\u001b[0;32m----> 1\u001b[0;31m \u001b[0;32mif\u001b[0m \u001b[0mtruth_value\u001b[0m \u001b[0;34m==\u001b[0m \u001b[0;36m0\u001b[0m\u001b[0;34m:\u001b[0m\u001b[0;34m\u001b[0m\u001b[0;34m\u001b[0m\u001b[0m\n\u001b[0m\u001b[1;32m      2\u001b[0m     \u001b[0mprint\u001b[0m\u001b[0;34m(\u001b[0m\u001b[0;34m\"The number \"\u001b[0m\u001b[0;34m+\u001b[0m \u001b[0mstr\u001b[0m\u001b[0;34m(\u001b[0m\u001b[0ma\u001b[0m\u001b[0;34m)\u001b[0m\u001b[0;34m+\u001b[0m \u001b[0;34m\" is in not in the list.\"\u001b[0m\u001b[0;34m)\u001b[0m\u001b[0;34m\u001b[0m\u001b[0;34m\u001b[0m\u001b[0m\n\u001b[1;32m      3\u001b[0m \u001b[0;32mif\u001b[0m \u001b[0mtruth_value\u001b[0m \u001b[0;34m==\u001b[0m \u001b[0;36m1\u001b[0m\u001b[0;34m:\u001b[0m\u001b[0;34m\u001b[0m\u001b[0;34m\u001b[0m\u001b[0m\n\u001b[1;32m      4\u001b[0m     \u001b[0mprint\u001b[0m\u001b[0;34m(\u001b[0m\u001b[0;34m\"The number \"\u001b[0m\u001b[0;34m+\u001b[0m \u001b[0mstr\u001b[0m\u001b[0;34m(\u001b[0m\u001b[0ma\u001b[0m\u001b[0;34m)\u001b[0m\u001b[0;34m+\u001b[0m \u001b[0;34m\" is in the list.\"\u001b[0m\u001b[0;34m)\u001b[0m\u001b[0;34m\u001b[0m\u001b[0;34m\u001b[0m\u001b[0m\n\u001b[1;32m      5\u001b[0m \u001b[0;32mif\u001b[0m \u001b[0mtruth_value\u001b[0m \u001b[0;34m==\u001b[0m \u001b[0;36m2\u001b[0m\u001b[0;34m:\u001b[0m\u001b[0;34m\u001b[0m\u001b[0;34m\u001b[0m\u001b[0m\n",
      "\u001b[0;31mNameError\u001b[0m: name 'truth_value' is not defined"
     ]
    }
   ],
   "source": [
    "        \n",
    "    if truth_value == 0:\n",
    "        print(\"The number \"+ str(a)+ \" is in not in the list.\")\n",
    "    if truth_value == 1:\n",
    "        print(\"The number \"+ str(a)+ \" is in the list.\")\n",
    "    if truth_value == 2:\n",
    "        print(\"failed.\")"
   ]
  },
  {
   "cell_type": "markdown",
   "metadata": {},
   "source": [
    "## 5) Write to a File"
   ]
  },
  {
   "cell_type": "markdown",
   "metadata": {},
   "source": [
    "Practice writing to a file.\n",
    "\n",
    "Extras:\n",
    "\n",
    "Ask the user to specify the name of the output file that will be saved.\n"
   ]
  },
  {
   "cell_type": "code",
   "execution_count": 28,
   "metadata": {},
   "outputs": [
    {
     "name": "stdout",
     "output_type": "stream",
     "text": [
      "What would you like the output file to be named? output\n",
      "Done\n"
     ]
    }
   ],
   "source": [
    "output = input(\"What would you like the output file to be named? \")\n",
    "\n",
    "with open(output, 'w') as f:\n",
    "    for i in range(15):\n",
    "        f.write('I found some info' + '\\n')\n",
    "print(\"Done\")"
   ]
  },
  {
   "cell_type": "markdown",
   "metadata": {},
   "source": [
    "## 6) Read from a File"
   ]
  },
  {
   "cell_type": "markdown",
   "metadata": {},
   "source": [
    "Given a .txt file that has a list of a bunch of names count how many of each name there are in the file, and print out the results to the screen. I have a .txt file for you, if you want to use it!\n",
    "\n",
    "Extra:\n",
    "\n",
    "Instead of using the .txt file from above (or instead of, if you want the challenge), take this .txt file, and count how many of each “category” of each image there are. This text file is actually a list of files corresponding to the SUN database scene recognition database, and lists the file directory hierarchy for the images. Once you take a look at the first line or two of the file, it will be clear which part represents the scene category."
   ]
  },
  {
   "cell_type": "code",
   "execution_count": null,
   "metadata": {},
   "outputs": [],
   "source": [
    "Using 'Extra' Sun Files...\n",
    "\n",
    "sample data from file:\n",
    "/a/abbey/sun_aqswjsnjlrfzzhiz.jpg\n",
    "/a/abbey/sun_aaoktempcmudsvna.jpg\n",
    "/a/abbey/sun_arxtvfkkycnqhfkj.jpg\n",
    "/a/abbey/sun_axcfsjajikefppey.jpg\n",
    "/a/abbey/sun_aqyoszxqzenqukbn.jpg\n",
    "/a/abbey/sun_aesfrdpuprlhzzss.jpg\n",
    "/a/abbey/sun_anunhwbsxmmdzwmk.jpg\n",
    "/a/airplane_cabin/sun_blczihbhbntqccux.jpg\n",
    "/a/airplane_cabin/sun_ayzaayjpoknjvpds.jpg\n",
    "/a/airplane_cabin/sun_amnfyehaljzgfcdy.jpg\n",
    "/a/airplane_cabin/sun_aljyguxxfiakvvcz.jpg\n",
    "/a/airplane_cabin/sun_aiqmabkmyhrrasmc.jpg\n",
    "/a/airport_terminal/sun_aeffkaqoxneezukf.jpg\n",
    "/a/airport_terminal/sun_aeggakajnnkdwwby.jpg\n",
    "/a/airport_terminal/sun_aelfvumxtofodytl.jpg"
   ]
  },
  {
   "cell_type": "code",
   "execution_count": 42,
   "metadata": {},
   "outputs": [
    {
     "name": "stdout",
     "output_type": "stream",
     "text": [
      "What would you like to name the downloaded file? sun_data\n",
      "Saved as: sun_data, Done.\n"
     ]
    }
   ],
   "source": [
    "import requests\n",
    "\n",
    "#Function reads text of url, and copys it on a file you name\n",
    "def download(url):\n",
    "    r = requests.get(url)\n",
    "    save_name = input('What would you like to name the downloaded file? ') \n",
    "    \n",
    "    with open(/Desktop/save_name, 'wb') as file:\n",
    "        file.write(r.content)\n",
    "    print('Saved as: ' + str(save_name) + ', Done.')    \n",
    "\n",
    "download('http://www.practicepython.org/assets/Training_01.txt')"
   ]
  },
  {
   "cell_type": "code",
   "execution_count": 39,
   "metadata": {},
   "outputs": [
    {
     "name": "stdout",
     "output_type": "stream",
     "text": [
      "Location: # of pictures \n",
      "\n",
      "abbey 50\n",
      "airplane_cabin 50\n",
      "airport_terminal 50\n",
      "alley 50\n",
      "amphitheater 50\n",
      "amusement_arcade 50\n",
      "amusement_park 50\n",
      "anechoic_chamber 50\n",
      "apartment_building/outdoor 50\n",
      "apse/indoor 50\n",
      "aquarium 50\n",
      "aqueduct 50\n",
      "arch 50\n",
      "archive 50\n",
      "arrival_gate/outdoor 50\n",
      "art_gallery 50\n",
      "art_school 50\n",
      "art_studio 50\n",
      "assembly_line 50\n",
      "athletic_field/outdoor 50\n",
      "atrium/public 50\n",
      "attic 50\n",
      "auditorium 50\n",
      "auto_factory 50\n",
      "badlands 50\n",
      "badminton_court/indoor 50\n",
      "baggage_claim 50\n",
      "bakery/shop 50\n",
      "balcony/exterior 50\n",
      "balcony/interior 50\n",
      "ball_pit 50\n",
      "ballroom 50\n",
      "bamboo_forest 50\n",
      "banquet_hall 50\n",
      "bar 50\n",
      "barn 50\n",
      "barndoor 50\n",
      "baseball_field 50\n",
      "basement 50\n",
      "basilica 50\n",
      "basketball_court/outdoor 50\n",
      "bathroom 50\n",
      "batters_box 50\n",
      "bayou 50\n",
      "bazaar/indoor 50\n",
      "bazaar/outdoor 50\n",
      "beach 50\n",
      "beauty_salon 50\n",
      "bedroom 50\n",
      "berth 50\n",
      "biology_laboratory 50\n",
      "bistro/indoor 50\n",
      "boardwalk 50\n",
      "boat_deck 50\n",
      "boathouse 50\n",
      "bookstore 50\n",
      "booth/indoor 50\n",
      "botanical_garden 50\n",
      "bow_window/indoor 50\n",
      "bow_window/outdoor 50\n",
      "bowling_alley 50\n",
      "boxing_ring 50\n",
      "brewery/indoor 50\n",
      "bridge 50\n",
      "building_facade 50\n",
      "bullring 50\n",
      "burial_chamber 50\n",
      "bus_interior 50\n",
      "butchers_shop 50\n",
      "butte 50\n",
      "cabin/outdoor 50\n",
      "cafeteria 50\n",
      "campsite 50\n",
      "campus 50\n",
      "canal/natural 50\n",
      "canal/urban 50\n",
      "candy_store 50\n",
      "canyon 50\n",
      "car_interior/backseat 50\n",
      "car_interior/frontseat 50\n",
      "carrousel 50\n",
      "casino/indoor 50\n",
      "castle 50\n",
      "catacomb 50\n",
      "cathedral/indoor 50\n",
      "cathedral/outdoor 50\n",
      "cavern/indoor 50\n",
      "cemetery 50\n",
      "chalet 50\n",
      "cheese_factory 50\n",
      "chemistry_lab 50\n",
      "chicken_coop/indoor 50\n",
      "chicken_coop/outdoor 50\n",
      "childs_room 50\n",
      "church/indoor 50\n",
      "church/outdoor 50\n",
      "classroom 50\n",
      "clean_room 50\n",
      "cliff 50\n",
      "cloister/indoor 50\n",
      "closet 50\n",
      "clothing_store 50\n",
      "coast 50\n",
      "cockpit 50\n",
      "coffee_shop 50\n",
      "computer_room 50\n",
      "conference_center 50\n",
      "conference_room 50\n",
      "construction_site 50\n",
      "control_room 50\n",
      "control_tower/outdoor 50\n",
      "corn_field 50\n",
      "corral 50\n",
      "corridor 50\n",
      "cottage_garden 50\n",
      "courthouse 50\n",
      "courtroom 50\n",
      "courtyard 50\n",
      "covered_bridge/exterior 50\n",
      "creek 50\n",
      "crevasse 50\n",
      "crosswalk 50\n",
      "cubicle/office 50\n",
      "dam 50\n",
      "delicatessen 50\n",
      "dentists_office 50\n",
      "desert/sand 50\n",
      "desert/vegetation 50\n",
      "diner/indoor 50\n",
      "diner/outdoor 50\n",
      "dinette/home 50\n",
      "dinette/vehicle 50\n",
      "dining_car 50\n",
      "dining_room 50\n",
      "discotheque 50\n",
      "dock 50\n",
      "doorway/outdoor 50\n",
      "dorm_room 50\n",
      "driveway 50\n",
      "driving_range/outdoor 50\n",
      "drugstore 50\n",
      "electrical_substation 50\n",
      "elevator/door 50\n",
      "elevator/interior 50\n",
      "elevator_shaft 50\n",
      "engine_room 50\n",
      "escalator/indoor 50\n",
      "excavation 50\n",
      "factory/indoor 50\n",
      "fairway 50\n",
      "fastfood_restaurant 50\n",
      "field/cultivated 50\n",
      "field/wild 50\n",
      "fire_escape 50\n",
      "fire_station 50\n",
      "firing_range/indoor 50\n",
      "fishpond 50\n",
      "florist_shop/indoor 50\n",
      "food_court 50\n",
      "forest/broadleaf 50\n",
      "forest/needleleaf 50\n",
      "forest_path 50\n",
      "forest_road 50\n",
      "formal_garden 50\n",
      "fountain 50\n",
      "galley 50\n",
      "game_room 50\n",
      "garage/indoor 50\n",
      "garbage_dump 50\n",
      "gas_station 50\n",
      "gazebo/exterior 50\n",
      "general_store/indoor 50\n",
      "general_store/outdoor 50\n",
      "gift_shop 50\n",
      "golf_course 50\n",
      "greenhouse/indoor 50\n",
      "greenhouse/outdoor 50\n",
      "gymnasium/indoor 50\n",
      "hangar/indoor 50\n",
      "hangar/outdoor 50\n",
      "harbor 50\n",
      "hayfield 50\n",
      "heliport 50\n",
      "herb_garden 50\n",
      "highway 50\n",
      "hill 50\n",
      "home_office 50\n",
      "hospital 50\n",
      "hospital_room 50\n",
      "hot_spring 50\n",
      "hot_tub/outdoor 50\n",
      "hotel/outdoor 50\n",
      "hotel_room 50\n",
      "house 50\n",
      "hunting_lodge/outdoor 50\n",
      "ice_cream_parlor 50\n",
      "ice_floe 50\n",
      "ice_shelf 50\n",
      "ice_skating_rink/indoor 50\n",
      "ice_skating_rink/outdoor 50\n",
      "iceberg 50\n",
      "igloo 50\n",
      "industrial_area 50\n",
      "inn/outdoor 50\n",
      "islet 50\n",
      "jacuzzi/indoor 50\n",
      "jail/indoor 50\n",
      "jail_cell 50\n",
      "jewelry_shop 50\n",
      "kasbah 50\n",
      "kennel/indoor 50\n",
      "kennel/outdoor 50\n",
      "kindergarden_classroom 50\n",
      "kitchen 50\n",
      "kitchenette 50\n",
      "labyrinth/outdoor 50\n",
      "lake/natural 50\n",
      "landfill 50\n",
      "landing_deck 50\n",
      "laundromat 50\n",
      "lecture_room 50\n",
      "library/indoor 50\n",
      "library/outdoor 50\n",
      "lido_deck/outdoor 50\n",
      "lift_bridge 50\n",
      "lighthouse 50\n",
      "limousine_interior 50\n",
      "living_room 50\n",
      "lobby 50\n",
      "lock_chamber 50\n",
      "locker_room 50\n",
      "mansion 50\n",
      "manufactured_home 50\n",
      "market/indoor 50\n",
      "market/outdoor 50\n",
      "marsh 50\n",
      "martial_arts_gym 50\n",
      "mausoleum 50\n",
      "medina 50\n",
      "moat/water 50\n",
      "monastery/outdoor 50\n",
      "mosque/indoor 50\n",
      "mosque/outdoor 50\n",
      "motel 50\n",
      "mountain 50\n",
      "mountain_snowy 50\n",
      "movie_theater/indoor 50\n",
      "museum/indoor 50\n",
      "music_store 50\n",
      "music_studio 50\n",
      "nuclear_power_plant/outdoor 50\n",
      "nursery 50\n",
      "oast_house 50\n",
      "observatory/outdoor 50\n",
      "ocean 50\n",
      "office 50\n",
      "office_building 50\n",
      "oil_refinery/outdoor 50\n",
      "oilrig 50\n",
      "operating_room 50\n",
      "orchard 50\n",
      "outhouse/outdoor 50\n",
      "pagoda 50\n",
      "palace 50\n",
      "pantry 50\n",
      "park 50\n",
      "parking_garage/indoor 50\n",
      "parking_garage/outdoor 50\n",
      "parking_lot 50\n",
      "parlor 50\n",
      "pasture 50\n",
      "patio 50\n",
      "pavilion 50\n",
      "pharmacy 50\n",
      "phone_booth 50\n",
      "physics_laboratory 50\n",
      "picnic_area 50\n",
      "pilothouse/indoor 50\n",
      "planetarium/outdoor 50\n",
      "playground 50\n",
      "playroom 50\n",
      "plaza 50\n",
      "podium/indoor 50\n",
      "podium/outdoor 50\n",
      "pond 50\n",
      "poolroom/establishment 50\n",
      "poolroom/home 50\n",
      "power_plant/outdoor 50\n",
      "promenade_deck 50\n",
      "pub/indoor 50\n",
      "pulpit 50\n",
      "putting_green 50\n",
      "racecourse 50\n",
      "raceway 50\n",
      "raft 50\n",
      "railroad_track 50\n",
      "rainforest 50\n",
      "reception 50\n",
      "recreation_room 50\n",
      "residential_neighborhood 50\n",
      "restaurant 50\n",
      "restaurant_kitchen 50\n",
      "restaurant_patio 50\n",
      "rice_paddy 50\n",
      "riding_arena 50\n",
      "river 50\n",
      "rock_arch 50\n",
      "rope_bridge 50\n",
      "ruin 50\n",
      "runway 50\n",
      "sandbar 50\n",
      "sandbox 50\n",
      "sauna 50\n",
      "schoolhouse 50\n",
      "sea_cliff 50\n",
      "server_room 50\n",
      "shed 50\n",
      "shoe_shop 50\n",
      "shopfront 50\n",
      "shopping_mall/indoor 50\n",
      "shower 50\n",
      "skatepark 50\n",
      "ski_lodge 50\n",
      "ski_resort 50\n",
      "ski_slope 50\n",
      "sky 50\n",
      "skyscraper 50\n",
      "slum 50\n",
      "snowfield 50\n",
      "squash_court 50\n",
      "stable 50\n",
      "stadium/baseball 50\n",
      "stadium/football 50\n",
      "stage/indoor 50\n",
      "staircase 50\n",
      "street 50\n",
      "subway_interior 50\n",
      "subway_station/platform 50\n",
      "supermarket 50\n",
      "sushi_bar 50\n",
      "swamp 50\n",
      "swimming_pool/indoor 50\n",
      "swimming_pool/outdoor 50\n",
      "synagogue/indoor 50\n",
      "synagogue/outdoor 50\n",
      "television_studio 50\n",
      "temple/east_asia 50\n",
      "temple/south_asia 50\n",
      "tennis_court/indoor 50\n",
      "tennis_court/outdoor 50\n",
      "tent/outdoor 50\n",
      "theater/indoor_procenium 50\n",
      "theater/indoor_seats 50\n",
      "thriftshop 50\n",
      "throne_room 50\n",
      "ticket_booth 50\n",
      "toll_plaza 50\n",
      "topiary_garden 50\n",
      "tower 50\n",
      "toyshop 50\n",
      "track/outdoor 50\n",
      "train_railway 50\n",
      "train_station/platform 50\n",
      "tree_farm 50\n",
      "tree_house 50\n",
      "trench 50\n",
      "underwater/coral_reef 50\n",
      "utility_room 50\n",
      "valley 50\n",
      "van_interior 50\n",
      "vegetable_garden 50\n",
      "veranda 50\n",
      "veterinarians_office 50\n",
      "viaduct 50\n",
      "videostore 50\n",
      "village 50\n",
      "vineyard 50\n",
      "volcano 50\n",
      "volleyball_court/indoor 50\n",
      "volleyball_court/outdoor 50\n",
      "waiting_room 50\n",
      "warehouse/indoor 50\n",
      "water_tower 50\n",
      "waterfall/block 50\n",
      "waterfall/fan 50\n",
      "waterfall/plunge 50\n",
      "watering_hole 50\n",
      "wave 50\n",
      "wet_bar 50\n",
      "wheat_field 50\n",
      "wind_farm 50\n",
      "windmill 50\n",
      "wine_cellar/barrel_storage 50\n",
      "wine_cellar/bottle_storage 50\n",
      "wrestling_ring/indoor 50\n",
      "yard 50\n",
      "youth_hostel 50\n"
     ]
    }
   ],
   "source": [
    "# Function will read the file from above, and print the different categories of sun pictures,\n",
    "# and return a value for the number of images in each category.\n",
    "\n",
    "dict_cata = {}\n",
    "with open(\"sun_data\", \"r\") as file:\n",
    "    text = file.readlines()\n",
    "    for line in text:\n",
    "        if line[3:-26] not in dict_cata:\n",
    "            dict_cata[line[3:-26]] = 1\n",
    "        else:\n",
    "            dict_cata[line[3:-26]] += 1\n",
    "    \n",
    "    # Prints each dict item on new line:\n",
    "    print(\"Location: # of pictures \" + '\\n')\n",
    "    for key,value in dict_cata.items():\n",
    "        print (key,value)\n",
    "        \n",
    "    \n",
    "  \n",
    "    "
   ]
  },
  {
   "cell_type": "markdown",
   "metadata": {},
   "source": [
    "## 7) Max of Three"
   ]
  },
  {
   "cell_type": "markdown",
   "metadata": {},
   "source": [
    "Implement a function that takes as input three variables, and returns the largest of the three. Do this without using the Python max() function!\n",
    "\n",
    "The goal of this exercise is to think about some internals that Python normally takes care of for us. All you need is some variables and if statements!"
   ]
  },
  {
   "cell_type": "code",
   "execution_count": 228,
   "metadata": {},
   "outputs": [
    {
     "name": "stdout",
     "output_type": "stream",
     "text": [
      "Please enter a list of 3 numbers, each number followed by a space: 8 9  1    32\n",
      "I'm sorry, that list does not contain 3 numbers, would you like to start again (y/n)?y\n",
      "\n",
      "\n",
      "Please enter a list of 3 numbers, each number followed by a space: 4 99 2\n",
      "99.0 is the largest number in the list.\n"
     ]
    }
   ],
   "source": [
    "def max_return():\n",
    "    lst = [float(item) for item in input(\"Please enter a list of 3 numbers, each number followed by a space: \").split()]\n",
    "    if len(lst) == 3:\n",
    "        a = lst[0]\n",
    "        b = lst[1]\n",
    "        c = lst[2]\n",
    "    \n",
    "        #Calculates the highest number and prints it\n",
    "        if a >= b and a >= c:\n",
    "            print(str(a) + ' is the largest number in the list.')\n",
    "        elif b >= a and b >= c:\n",
    "            print(str(b) + ' is the largest number in the list.')\n",
    "        else:\n",
    "            print(str(c) + ' is the largest number in the list.')\n",
    "    else:\n",
    "        if input(\"I'm sorry, that list does not contain 3 numbers, would you like to start again (y/n)?\") == 'y':\n",
    "            print('\\n')\n",
    "            max_return()\n",
    "        else:\n",
    "            print('Ok, Goodbye.')\n",
    "    \n",
    "max_return()     \n",
    "    "
   ]
  },
  {
   "cell_type": "markdown",
   "metadata": {},
   "source": [
    "## 8) Birthday Dictionaries"
   ]
  },
  {
   "cell_type": "markdown",
   "metadata": {},
   "source": [
    "For this exercise, we will keep track of when our friend’s birthdays are, and be able to find that information based on their name. Create a dictionary (in your file) of names and birthdays. When you run your program it should ask the user to enter a name, and return the birthday of that person back to them. The interaction should look something like this:\n",
    "\n"
   ]
  },
  {
   "cell_type": "code",
   "execution_count": null,
   "metadata": {},
   "outputs": [],
   "source": [
    ">>> Welcome to the birthday dictionary. We know the birthdays of:\n",
    "Albert Einstein\n",
    "Benjamin Franklin\n",
    "Ada Lovelace\n",
    ">>> Who's birthday do you want to look up?\n",
    "Benjamin Franklin\n",
    ">>> Benjamin Franklin's birthday is 01/17/1706."
   ]
  },
  {
   "cell_type": "code",
   "execution_count": 235,
   "metadata": {},
   "outputs": [
    {
     "name": "stdout",
     "output_type": "stream",
     "text": [
      "Hello, welcome to the birthday dictionary. Here are the people we have birthday info for:\n",
      "\n",
      "Brenda Butternut\n",
      "\n",
      "Michael Zowsky\n",
      "\n",
      "Charles Chinny\n",
      "\n",
      "Summer Safrity\n",
      "\n",
      "Who's birthday do you want to look up? Michael Zowsky\n",
      "Michael Zowsky's birthday is 02/05/1980\n"
     ]
    }
   ],
   "source": [
    "bdaydict ={'Brenda Butternut':'01/16/1957', 'Michael Zowsky':'02/05/1980', \n",
    "           'Charles Chinny':'11/25/2005', 'Summer Safrity':'02/17/2001'}\n",
    "\n",
    "def bdayprinter(dct):\n",
    "    print(\"Hello, welcome to the birthday dictionary. Here are the people we have birthday info for:\" + '\\n')\n",
    "    for i in dct:\n",
    "        print(i + '\\n')\n",
    "    search_val = input(\"Who's birthday do you want to look up? \")\n",
    "    print(str(search_val) + \"'s birthday is \" + dct[search_val])\n",
    "\n",
    "bdayprinter(bdaydict)\n",
    "\n",
    "\n",
    "\n"
   ]
  },
  {
   "cell_type": "markdown",
   "metadata": {},
   "source": [
    "# Level 2 Difficulty"
   ]
  },
  {
   "cell_type": "markdown",
   "metadata": {},
   "source": [
    "## 9) List Less Than 10"
   ]
  },
  {
   "cell_type": "markdown",
   "metadata": {},
   "source": [
    "Take a list, say for example this one:\n",
    "\n",
    "  a = [1, 1, 2, 3, 5, 8, 13, 21, 34, 55, 89]\n",
    "and write a program that prints out all the elements of the list that are less than 5.\n",
    "\n",
    "Extras:\n",
    "\n",
    "Instead of printing the elements one by one, make a new list that has all the elements less than 5 from this list in it and print out this new list.\n",
    "\n",
    "Write this in one line of Python.\n",
    "\n",
    "Ask the user for a number and return a list that contains only elements from the original list a that are smaller than that number given by the user."
   ]
  },
  {
   "cell_type": "code",
   "execution_count": 33,
   "metadata": {},
   "outputs": [
    {
     "name": "stdout",
     "output_type": "stream",
     "text": [
      "Please enter a number, and I will print out a list of all the elements in the given list that are less than\n",
      " that number. 25\n",
      "[17, 10, 18]\n",
      "\n",
      "Original List: \n",
      "[191, 193, 28, 123, 177, 169, 135, 178, 86, 81, 151, 96, 111, 44, 158, 143, 98, 186, 141, 160, 171, 29, 55, 40, 83, 129, 29, 149, 94, 193, 123, 58, 71, 152, 188, 165, 141, 152, 84, 170, 162, 93, 192, 141, 39, 48, 17, 119, 75, 181, 188, 114, 53, 138, 145, 51, 190, 162, 75, 57, 168, 80, 72, 150, 174, 122, 44, 158, 155, 100, 10, 122, 185, 193, 149, 36, 99, 156, 18, 142, 187, 167, 163, 133, 157, 29, 25, 86, 56, 107, 136, 83, 109, 57, 137, 186, 87, 43, 107, 87]\n"
     ]
    }
   ],
   "source": [
    "#First, this will generate a list of random numbers to use as a test.\n",
    "import random\n",
    "\n",
    "lst1 =[]\n",
    "for i in range(0,100):\n",
    "    m = random.randint(1,200)\n",
    "    lst1.append(m)\n",
    "   \n",
    "    \n",
    "def listlessthan(lst):\n",
    "    x = input(\"Please enter a number, and I will print out a list of all the elements in the given list \" + \n",
    "              \"that are less than\" + \"\\n\" + \" that number. \")\n",
    "   # Single line of code here (list comprehension) \n",
    "    new_lst = [i for i in lst if int(i) < int(x)]\n",
    "   \n",
    "    print(new_lst)\n",
    "    print('\\n' + \"Original List: \")\n",
    "    print(lst1)\n",
    "    \n",
    "listlessthan(lst1)"
   ]
  },
  {
   "cell_type": "markdown",
   "metadata": {},
   "source": [
    "## 10) Divisors"
   ]
  },
  {
   "cell_type": "markdown",
   "metadata": {},
   "source": [
    "Create a program that asks the user for a number and then prints out a list of all the divisors of that number. "
   ]
  },
  {
   "cell_type": "code",
   "execution_count": 41,
   "metadata": {},
   "outputs": [
    {
     "name": "stdout",
     "output_type": "stream",
     "text": [
      "Please enter a number and I will return a list of all the divisors of that number \n",
      " (i.e what numbers divide evenly into it).\n",
      " 150\n",
      "\n",
      "\n",
      "[1, 2, 3, 5, 6, 10, 15, 25, 30, 50, 75, 150]\n"
     ]
    }
   ],
   "source": [
    "def divisor():\n",
    "    x = int(input(\"Please enter a number and I will return a list of all the divisors of that number \" + '\\n' + \" (i.e what numbers divide evenly into it).\" + '\\n'+ \" \"))\n",
    "    new_lst = [i for i in range(1,x+1) if int(x) % int(i) == 0]\n",
    "    print ('\\n')\n",
    "    print(new_lst)\n",
    "\n",
    "\n",
    "divisor()"
   ]
  },
  {
   "cell_type": "markdown",
   "metadata": {},
   "source": [
    "## 11) List Overlap"
   ]
  },
  {
   "cell_type": "markdown",
   "metadata": {},
   "source": [
    "Take two lists, say for example these two:\n",
    "\n",
    "  a = [1, 1, 2, 3, 5, 8, 13, 21, 34, 55, 89]\n",
    "  \n",
    "  b = [1, 2, 3, 4, 5, 6, 7, 8, 9, 10, 11, 12, 13]\n",
    "  \n",
    "and write a program that returns a list that contains only the elements that are common between the lists (without duplicates). Make sure your program works on two lists of different sizes.\n",
    "\n",
    "Extras:\n",
    "\n",
    "Randomly generate two lists to test this.\n",
    "Generate each list with one line of Python."
   ]
  },
  {
   "cell_type": "code",
   "execution_count": 72,
   "metadata": {},
   "outputs": [
    {
     "name": "stdout",
     "output_type": "stream",
     "text": [
      "[8, 10, 33, 48, 29, 36, 17, 24, 24, 12, 22, 25, 1, 23, 47, 9, 3, 30, 40, 24, 36, 11, 34, 45, 23, 26, 31, 28, 7, 32, 48, 16, 5, 21, 9, 27, 35, 28, 1, 1, 5, 44, 30, 13, 24, 30, 22, 6, 24, 49, 47, 49, 30, 3, 11, 41, 40, 20, 20, 11, 30, 46, 16, 40, 13, 17, 3, 28, 49, 16, 17, 10, 10, 39, 37, 44, 31, 45, 42, 27, 25, 26, 2, 32, 34, 29, 13, 12, 39, 28, 4, 31, 15, 26, 36, 31, 23, 2, 38, 42]\n",
      "\n",
      "\n",
      "[29, 90, 50, 2, 36, 28, 30, 79, 93, 34, 37, 72, 12, 46, 20, 59, 81, 47, 41, 82, 2, 44, 61, 70, 21, 40, 77, 7, 9, 12, 63, 22, 97, 61, 46, 69, 77, 79, 65, 75, 89, 39, 44, 61, 8, 81, 76, 57, 73, 51]\n",
      "\n",
      "The list of overlapping elements is:\n",
      "[8, 29, 36, 12, 22, 47, 9, 30, 40, 34, 28, 7, 21, 44, 41, 20, 46, 39, 37, 2]\n"
     ]
    }
   ],
   "source": [
    "import random\n",
    "\n",
    "#Generates two differently sized, random lists of numbers for testing\n",
    "a = [random.randrange(1, 50, 1) for i in range(100)]\n",
    "b = [random.randrange(1, 100, 1) for i in range(50)]\n",
    "print(a)\n",
    "print(\"\\n\")\n",
    "print(b)\n",
    "\n",
    "\n",
    "def overlap(lst1,lst2):\n",
    "    new_lst = []\n",
    "    for i in lst1:\n",
    "        if i in lst2 and i not in new_lst:\n",
    "            new_lst.append(i)\n",
    "   \n",
    "    print(\"\\n\"+\"The list of overlapping elements is:\")\n",
    "    print(new_lst)\n",
    "    \n",
    "overlap(a,b)\n",
    "            \n",
    "    \n",
    "  "
   ]
  },
  {
   "cell_type": "markdown",
   "metadata": {},
   "source": [
    "## 12) String Lists"
   ]
  },
  {
   "cell_type": "markdown",
   "metadata": {},
   "source": [
    "Ask the user for a string and print out whether this string is a palindrome or not."
   ]
  },
  {
   "cell_type": "code",
   "execution_count": 95,
   "metadata": {},
   "outputs": [
    {
     "name": "stdout",
     "output_type": "stream",
     "text": [
      "Please enter a string and I will tell you whether or not it is a palindrome. Hello\n",
      "No, the string is not a palindrome.\n",
      "\n",
      "\n",
      "Please enter a string and I will tell you whether or not it is a palindrome. RaceCar\n",
      "Yes, the string is a palindrome.\n",
      "\n",
      "\n",
      "Please enter a string and I will tell you whether or not it is a palindrome. 1001001001\n",
      "Yes, the string is a palindrome.\n"
     ]
    }
   ],
   "source": [
    "#Function accounts for capitalization of letters\n",
    "def string():\n",
    "    string = str(input(\"Please enter a string and I will tell you whether or not it is a palindrome. \"))\n",
    "    lower = string.lower()\n",
    "    rev_string = lower[::-1]\n",
    "    result = True\n",
    "    for i in range(0,len(string)):\n",
    "        if lower[i] == rev_string[i]:\n",
    "            continue\n",
    "        else:\n",
    "            result = False\n",
    "            break\n",
    "    if result == True:\n",
    "        print(\"Yes, the string is a palindrome.\")\n",
    "    else:\n",
    "        print(\"No, the string is not a palindrome.\")\n",
    "    \n",
    "string()\n",
    "print(\"\\n\")\n",
    "string()\n",
    "print(\"\\n\")\n",
    "string()\n",
    "    \n",
    "    "
   ]
  },
  {
   "cell_type": "markdown",
   "metadata": {},
   "source": [
    "## 13) List Comprehensions"
   ]
  },
  {
   "cell_type": "markdown",
   "metadata": {},
   "source": [
    "Let’s say I give you a list saved in a variable: a = [1, 4, 9, 16, 25, 36, 49, 64, 81, 100]. Write one line of Python that takes this list and makes a new list that has only the even elements of this list in it."
   ]
  },
  {
   "cell_type": "code",
   "execution_count": 26,
   "metadata": {},
   "outputs": [
    {
     "name": "stdout",
     "output_type": "stream",
     "text": [
      "Test List:\n",
      "[3, 9, 17, 23, 23, 33, 38, 46, 47, 47, 52, 60, 70, 73, 76, 77, 86, 86, 96, 98, 103, 108, 108, 114, 121, 129, 131, 140, 146, 146, 160, 174, 175, 180, 206, 211, 217, 217, 219, 223, 225, 235, 244, 257, 260, 260, 267, 275, 280, 289]\n",
      "\n",
      "\n",
      "The list of only even elements: \n",
      "[38, 46, 52, 60, 70, 76, 86, 86, 96, 98, 108, 108, 114, 140, 146, 146, 160, 174, 180, 206, 244, 260, 260, 280]\n"
     ]
    }
   ],
   "source": [
    "import random\n",
    "\n",
    "#Generates a random list to use for testing\n",
    "a = [random.randrange(1, 300) for i in range(50)]\n",
    "a.sort()\n",
    "print(\"Test List:\")\n",
    "print(a)\n",
    "print(\"\\n\")\n",
    "\n",
    "def even(lst):\n",
    "    new_lst = [i for i in lst if (i % 2) == 0]\n",
    "    print(\"The list of only even elements: \")\n",
    "    return new_lst\n",
    "    \n",
    "print(even(a))\n",
    "    \n",
    "\n",
    "\n"
   ]
  },
  {
   "cell_type": "markdown",
   "metadata": {},
   "source": [
    "## 14) Fibonacci"
   ]
  },
  {
   "cell_type": "markdown",
   "metadata": {},
   "source": [
    "Write a program that asks the user how many Fibonnaci numbers to generate and then generates them. Take this opportunity to think about how you can use functions. Make sure to ask the user to enter the number of numbers in the sequence to generate.\n",
    "\n",
    "(Hint: The Fibonnaci seqence is a sequence of numbers where the next number in the sequence is the sum of the previous two numbers in the sequence. The sequence looks like this: 1, 1, 2, 3, 5, 8, 13, …)\n",
    "\n"
   ]
  },
  {
   "cell_type": "code",
   "execution_count": 67,
   "metadata": {},
   "outputs": [
    {
     "name": "stdout",
     "output_type": "stream",
     "text": [
      "Please enter the number of numbers to generate in the Fibonacci sequence,\n",
      "and I will print them out. 15\n",
      "\n",
      "\n",
      "The Fibonacci sequence is: \n",
      "[1, 1, 2, 3, 5, 8, 13, 21, 34, 55, 89, 144, 233, 377, 610]\n",
      "\n",
      "\n",
      "Please enter the number of numbers to generate in the Fibonacci sequence,\n",
      "and I will print them out. 2\n",
      "The Fibonacci sequence is: \n",
      "[1, 1]\n",
      "\n",
      "\n",
      "Please enter the number of numbers to generate in the Fibonacci sequence,\n",
      "and I will print them out. 1\n",
      "The Fibonacci sequence is: \n",
      "[1]\n",
      "\n",
      "\n",
      "Please enter the number of numbers to generate in the Fibonacci sequence,\n",
      "and I will print them out. 0\n",
      "The Fibonacci sequence is: \n",
      "[]\n"
     ]
    }
   ],
   "source": [
    "def fibonacci():\n",
    "    num = int(input(\"Please enter the number of numbers to generate in the Fibonacci sequence,\" + '\\n'+ \"and I will print them out. \"))\n",
    "    lst = []\n",
    "\n",
    "    #Specific responses for inputs of 0,1,2:\n",
    "    if num == 0:\n",
    "        print(\"The Fibonacci sequence is: \")\n",
    "        lst = []\n",
    "    elif num == 1:\n",
    "        print(\"The Fibonacci sequence is: \")\n",
    "        lst = [1]\n",
    "    elif num == 2:\n",
    "        print(\"The Fibonacci sequence is: \")\n",
    "        lst = [1,1]\n",
    "    \n",
    "    #Fibonacci sequence iterative\n",
    "    else:\n",
    "        lst = [1,1]\n",
    "        while len(lst) < int(num):\n",
    "            lst.append(lst[-1]+lst[-2])\n",
    "        print(\"\\n\")\n",
    "        print(\"The Fibonacci sequence is: \")\n",
    "    return lst\n",
    "\n",
    "print(fibonacci())\n",
    "print(\"\\n\")\n",
    "print(fibonacci())\n",
    "print(\"\\n\")\n",
    "print(fibonacci())\n",
    "print(\"\\n\")\n",
    "print(fibonacci())\n",
    "    \n",
    "    \n",
    "    \n",
    "    \n",
    "    \n",
    "    \n",
    "    "
   ]
  },
  {
   "cell_type": "markdown",
   "metadata": {},
   "source": [
    "## 15) List Remove Duplicates"
   ]
  },
  {
   "cell_type": "markdown",
   "metadata": {},
   "source": [
    "Write a program that takes a list and returns a new list that contains all the elements of the first list minus all the duplicates.\n",
    "\n",
    "Extras:\n",
    "\n",
    "Write two different functions to do this - one using a loop and constructing a list, and another using sets."
   ]
  },
  {
   "cell_type": "markdown",
   "metadata": {},
   "source": [
    "First program using a loop to construct the list:"
   ]
  },
  {
   "cell_type": "code",
   "execution_count": 78,
   "metadata": {},
   "outputs": [
    {
     "name": "stdout",
     "output_type": "stream",
     "text": [
      "The original list is: \n",
      "[0, 1, 1, 2, 3, 4, 6, 6, 6, 7, 8, 8, 9, 9, 10, 10, 11, 11, 11, 12, 13, 14, 14, 14, 14, 14, 14, 14, 15, 15, 15, 15, 17, 17, 18, 18, 18, 19, 19, 20, 20, 20, 20, 21, 22, 22, 22, 24, 25, 25, 26, 26, 27, 28, 29, 29, 29, 30, 30, 31, 31, 31, 31, 32, 32, 32, 32, 32, 33, 34, 34, 34, 35, 35, 36, 37, 37, 37, 39, 40, 41, 41, 41, 41, 42, 42, 43, 43, 44, 44, 45, 45, 45, 46, 46, 46, 46, 47, 48, 49]\n",
      "\n",
      "\n",
      "The list, without duplicates, is: \n",
      "[0, 1, 2, 3, 4, 6, 7, 8, 9, 10, 11, 12, 13, 14, 15, 17, 18, 19, 20, 21, 22, 24, 25, 26, 27, 28, 29, 30, 31, 32, 33, 34, 35, 36, 37, 39, 40, 41, 42, 43, 44, 45, 46, 47, 48, 49]\n"
     ]
    }
   ],
   "source": [
    "import random\n",
    "\n",
    "#Generates a random list for testing\n",
    "lst = [random.randrange(0,50) for i in range(100)] \n",
    "lst.sort()\n",
    "\n",
    "def duplicate(lst):\n",
    "    new_lst =[]\n",
    "    for i in lst:\n",
    "        if i not in new_lst:\n",
    "            new_lst.append(i)\n",
    "        else:\n",
    "            continue\n",
    "    print(\"The list, without duplicates, is: \")\n",
    "    return new_lst\n",
    "    \n",
    "    \n",
    "    \n",
    "print(\"The original list is: \")\n",
    "print(lst)\n",
    "print(\"\\n\")\n",
    "print(duplicate(lst))"
   ]
  },
  {
   "cell_type": "markdown",
   "metadata": {},
   "source": [
    "Same program, now using sets:"
   ]
  },
  {
   "cell_type": "code",
   "execution_count": 79,
   "metadata": {},
   "outputs": [
    {
     "name": "stdout",
     "output_type": "stream",
     "text": [
      "The original list is: \n",
      "[0, 0, 0, 0, 0, 1, 1, 1, 2, 2, 2, 2, 4, 4, 5, 5, 6, 6, 6, 6, 8, 8, 10, 10, 11, 12, 12, 12, 12, 13, 13, 14, 15, 15, 16, 16, 17, 17, 17, 18, 20, 20, 22, 24, 24, 24, 25, 26, 26, 27, 27, 27, 28, 28, 28, 28, 28, 28, 29, 31, 32, 32, 32, 32, 33, 34, 34, 34, 34, 34, 35, 35, 36, 36, 36, 38, 38, 39, 40, 40, 40, 40, 41, 41, 42, 42, 43, 43, 43, 44, 44, 44, 44, 45, 45, 46, 47, 48, 48, 49]\n",
      "\n",
      "\n",
      "The list, without duplicates, is: \n",
      "{0, 1, 2, 4, 5, 6, 8, 10, 11, 12, 13, 14, 15, 16, 17, 18, 20, 22, 24, 25, 26, 27, 28, 29, 31, 32, 33, 34, 35, 36, 38, 39, 40, 41, 42, 43, 44, 45, 46, 47, 48, 49}\n"
     ]
    }
   ],
   "source": [
    "import random\n",
    "\n",
    "#Generates a random list for testing\n",
    "lst = [random.randrange(0,50) for i in range(100)] \n",
    "lst.sort()\n",
    "\n",
    "def duplicate(lst):\n",
    "    new_lst = set(lst)\n",
    "    print(\"The list, without duplicates, is: \")\n",
    "    return new_lst\n",
    "    \n",
    "    \n",
    "    \n",
    "print(\"The original list is: \")\n",
    "print(lst)\n",
    "print(\"\\n\")\n",
    "print(duplicate(lst))"
   ]
  },
  {
   "cell_type": "markdown",
   "metadata": {},
   "source": [
    "## 16) File Overlap"
   ]
  },
  {
   "cell_type": "markdown",
   "metadata": {},
   "source": [
    "Given two .txt files that have lists of numbers in them, find the numbers that are overlapping. One .txt file has a list of all prime numbers under 1000, and the other .txt file has a list of happy numbers up to 1000.\n"
   ]
  },
  {
   "cell_type": "code",
   "execution_count": 7,
   "metadata": {},
   "outputs": [
    {
     "name": "stdout",
     "output_type": "stream",
     "text": [
      "Saved as: Prime_numbers, Done.\n",
      "Saved as: Happy_numbers, Done.\n"
     ]
    }
   ],
   "source": [
    "import requests\n",
    "\n",
    "r1 = requests.get('http://www.practicepython.org/assets/primenumbers.txt')\n",
    "r2 = requests.get('http://www.practicepython.org/assets/happynumbers.txt')\n",
    "save_name1 = 'Prime_numbers'\n",
    "save_name2 = 'Happy_numbers'\n",
    "\n",
    "with open(save_name1, 'wb') as file:\n",
    "    file.write(r1.content)\n",
    "print('Saved as: ' + str(save_name1) + ', Done.')    \n",
    "\n",
    "with open(save_name2, 'wb') as file:\n",
    "    file.write(r2.content)\n",
    "print('Saved as: ' + str(save_name2) + ', Done.')    \n",
    "\n"
   ]
  },
  {
   "cell_type": "code",
   "execution_count": 31,
   "metadata": {},
   "outputs": [
    {
     "name": "stdout",
     "output_type": "stream",
     "text": [
      "The first file: \n",
      "['2', '3', '5', '7', '11', '13', '17', '19', '23', '29 ', '31', '37', '41', '43', '47', '53', '59', '61', '67', '71 ', '73', '79', '83', '89', '97', '101', '103', '107', '109', '113 ', '127', '131', '137', '139', '149', '151', '157', '163', '167', '173 ', '179', '181', '191', '193', '197', '199', '211', '223', '227', '229 ', '233', '239', '241', '251', '257', '263', '269', '271', '277', '281 ', '283', '293', '307', '311', '313', '317', '331', '337', '347', '349 ', '353', '359', '367', '373', '379', '383', '389', '397', '401', '409 ', '419', '421', '431', '433', '439', '443', '449', '457', '461', '463 ', '467', '479', '487', '491', '499', '503', '509', '521', '523', '541 ', '547', '557', '563', '569', '571', '577', '587', '593', '599', '601 ', '607', '613', '617', '619', '631', '641', '643', '647', '653', '659 ', '661', '673', '677', '683', '691', '701', '709', '719', '727', '733 ', '739', '743', '751', '757', '761', '769', '773', '787', '797', '809 ', '811', '821', '823', '827', '829', '839', '853', '857', '859', '863 ', '877', '881', '883', '887', '907', '911', '919', '929', '937', '941 ', '947', '953', '967', '971', '977', '983', '991', '997']\n",
      "\n",
      "\n",
      "The second file: \n",
      "['1', '7', '10', '13', '19', '23', '28', '31', '32', '44', '49', '68', '70', '79', '82', '86', '91', '94', '97', '100', '103', '109', '129', '130', '133', '139', '167', '176', '188', '190', '192', '193', '203', '208', '219', '226', '230', '236', '239', '262', '263', '280', '291', '293', '301', '302', '310', '313', '319', '320', '326', '329', '331', '338', '356', '362', '365', '367', '368', '376', '379', '383', '386', '391', '392', '397', '404', '409', '440', '446', '464', '469', '478', '487', '490', '496', '536', '556', '563', '565', '566', '608', '617', '622', '623', '632', '635', '637', '638', '644', '649', '653', '655', '656', '665', '671', '673', '680', '683', '694', '700', '709', '716', '736', '739', '748', '761', '763', '784', '790', '793', '802', '806', '818', '820', '833', '836', '847', '860', '863', '874', '881', '888', '899', '901', '904', '907', '910', '912', '913', '921', '923', '931', '932', '937', '940', '946', '964', '970', '973', '989', '998', '1000']\n",
      "\n",
      "\n",
      "The list of overlapping elements:\n",
      "[7, 13, 19, 23, 31, 79, 97, 103, 109, 139, 167, 193, 239, 263, 293, 313, 331, 367, 379, 383, 397, 487, 563, 617, 653, 673, 683, 709, 739, 761, 881, 907, 937]\n"
     ]
    }
   ],
   "source": [
    "def overlap(file1,file2):\n",
    "    with open(file1, \"r\") as first, open(file2, \"r\") as second:\n",
    "        text1 = first.read().splitlines()\n",
    "        print(\"The first file: \")\n",
    "        print(text1)\n",
    "        print(\"\\n\")\n",
    "        \n",
    "        text2 = second.read().splitlines()\n",
    "        print(\"The second file: \")\n",
    "        print(text2)\n",
    "        print(\"\\n\")\n",
    "        \n",
    "        lst_overlap = [int(i) for i in text1 if i in text2]\n",
    "   \n",
    "    print(\"The list of overlapping elements:\")\n",
    "    return lst_overlap\n",
    "\n",
    "\n",
    "print(overlap(\"Prime_numbers\",\"Happy_numbers\"))\n",
    "             "
   ]
  },
  {
   "cell_type": "markdown",
   "metadata": {},
   "source": [
    "## 17) Draw a Game Board"
   ]
  },
  {
   "cell_type": "markdown",
   "metadata": {},
   "source": [
    "Time for some fake graphics! Let’s say we want to draw game boards that look like this:\n",
    "--- --- --- \n",
    "|   |   |   | \n",
    " --- --- ---  \n",
    "|   |   |   | \n",
    " --- --- ---  \n",
    "|   |   |   | \n",
    " --- --- --- \n",
    "This one is 3x3 (like in tic tac toe). Obviously, they come in many other sizes (8x8 for chess, 19x19 for Go, and many more).\n",
    "\n",
    "Ask the user what size game board they want to draw, and draw it for them to the screen using Python’s print statement."
   ]
  },
  {
   "cell_type": "code",
   "execution_count": 44,
   "metadata": {},
   "outputs": [
    {
     "name": "stdout",
     "output_type": "stream",
     "text": [
      "Please enter the size of the desired game board (i.e: 5 = 5 x 5, 10 = 10 x 10, etc.) 3\n",
      "--- --- --- \n",
      "|   |   |   |   \n",
      " --- --- ---\n",
      "|   |   |   |   \n",
      " --- --- ---\n",
      "|   |   |   |   \n",
      " --- --- ---\n",
      "Please enter the size of the desired game board (i.e: 5 = 5 x 5, 10 = 10 x 10, etc.) 5\n",
      "--- --- --- --- --- \n",
      "|   |   |   |   |   |   \n",
      " --- --- --- --- ---\n",
      "|   |   |   |   |   |   \n",
      " --- --- --- --- ---\n",
      "|   |   |   |   |   |   \n",
      " --- --- --- --- ---\n",
      "|   |   |   |   |   |   \n",
      " --- --- --- --- ---\n",
      "|   |   |   |   |   |   \n",
      " --- --- --- --- ---\n"
     ]
    }
   ],
   "source": [
    "def gameboard():\n",
    "    size = int(input(\"Please enter the size of the desired game board (i.e: 5 = 5 x 5, 10 = 10 x 10, etc.) \"))\n",
    "    print(\"--- \" *size)\n",
    "    for i in range(0,size):\n",
    "        print(\"|   \"*(size+1))\n",
    "        print(\" ---\"*size)\n",
    "\n",
    "gameboard()\n",
    "gameboard()\n"
   ]
  },
  {
   "cell_type": "markdown",
   "metadata": {},
   "source": [
    "## 18) Check Tic Tac Toe"
   ]
  },
  {
   "cell_type": "markdown",
   "metadata": {},
   "source": [
    "If a game of Tic Tac Toe is represented as a list of lists, like so:\n",
    "\n",
    "game = \n",
    "\n",
    "    [[1, 2, 0],\n",
    "    \n",
    "\t[2, 1, 0],\n",
    "    \n",
    "\t[2, 1, 1]]\n",
    "where a 0 means an empty square, a 1 means that player 1 put their token in that space, and a 2 means that player 2 put their token in that space.\n",
    "\n",
    "Your task this week: given a 3 by 3 list of lists that represents a Tic Tac Toe game board, tell me whether anyone has won, and tell me which player won, if any. A Tic Tac Toe win is 3 in a row - either in a row, a column, or a diagonal. Don’t worry about the case where TWO people have won - assume that in every board there will only be one winner."
   ]
  },
  {
   "cell_type": "code",
   "execution_count": 2,
   "metadata": {},
   "outputs": [
    {
     "name": "stdout",
     "output_type": "stream",
     "text": [
      "The test game board is: \n",
      "[2, 0, 2]\n",
      "[1, 2, 1]\n",
      "[2, 0, 1]\n",
      "Player 2 wins via diagonals.\n",
      "\n",
      "\n",
      "The test game board is: \n",
      "[1, 0, 0]\n",
      "[1, 1, 0]\n",
      "[1, 2, 1]\n",
      "Player 1 wins via columns.\n",
      "Player 1 wins via diagonals.\n",
      "\n",
      "\n",
      "The test game board is: \n",
      "[0, 2, 1]\n",
      "[2, 1, 2]\n",
      "[2, 1, 0]\n",
      "\n",
      "\n",
      "The test game board is: \n",
      "[0, 0, 2]\n",
      "[0, 2, 1]\n",
      "[2, 1, 1]\n",
      "Player 2 wins via diagonals.\n",
      "\n",
      "\n",
      "The test game board is: \n",
      "[0, 1, 0]\n",
      "[0, 2, 2]\n",
      "[1, 1, 0]\n",
      "\n",
      "\n"
     ]
    }
   ],
   "source": [
    "#First will generate a random gameboard for testing:\n",
    "import random\n",
    "\n",
    "\n",
    "def game_check():\n",
    "   #Will generate a new random board to check each time:\n",
    "    test1 = [random.randrange(0,3) for i in range(3)]\n",
    "    test2 = [random.randrange(0,3) for i in range(3)]\n",
    "    test3 = [random.randrange(0,3) for i in range(3)]\n",
    "    test_board = [test1, test2, test3]\n",
    "    print(\"The test game board is: \")\n",
    "    print(test_board[0])\n",
    "    print(test_board[1])\n",
    "    print(test_board[2])\n",
    "    \n",
    "    #Row wins:\n",
    "    if test_board[0][0] == test_board[0][1] == test_board[0][2] == 1 or test_board[1][0] == test_board[1][1] == test_board[1][2] == 1 or test_board[2][0] == test_board[2][1] == test_board[2][2] == 1:\n",
    "             print(\"Player 1 wins via rows.\")\n",
    "    elif test_board[0][0] == test_board[0][1] == test_board[0][2] == 2 or test_board[1][0] == test_board[1][1] == test_board[1][2] == 2 or test_board[2][0] == test_board[2][1] == test_board[2][2] == 2:\n",
    "             print(\"Player 2 wins via rows.\")\n",
    "    \n",
    "    \n",
    "            \n",
    "    #Column wins:\n",
    "    if test_board[0][0] == test_board[1][0] == test_board[2][0] == 1 or test_board[0][1] == test_board[1][1] == test_board[2][1] == 1 or test_board[0][2] == test_board[1][2] == test_board[2][2] ==1:\n",
    "        print(\"Player 1 wins via columns.\")\n",
    "    elif test_board[0][0] == test_board[1][0] == test_board[2][0] == 2 or test_board[0][1] == test_board[1][1] == test_board[2][1] == 2 or test_board[0][2] == test_board[1][2] == test_board[2][2] ==2:\n",
    "        print(\"Player 2 wins via columns.\")\n",
    "\n",
    "\n",
    "        \n",
    "        \n",
    "    #Diagonal wins:\n",
    "    if test_board[0][0] == test_board[1][1] == test_board[2][2] == 1 or test_board[0][2] == test_board[1][1] == test_board[2][0] == 1:\n",
    "        print(\"Player 1 wins via diagonals.\")\n",
    "    elif test_board[0][0] == test_board[1][1] == test_board[2][2] == 2 or test_board[0][2] == test_board[1][1] == test_board[2][0] == 2:\n",
    "        print(\"Player 2 wins via diagonals.\")\n",
    "    return\n",
    "        \n",
    "\n",
    "\n",
    "for i in range(0,5):\n",
    "    game_check()\n",
    "    print(\"\\n\")\n",
    "\n"
   ]
  },
  {
   "cell_type": "markdown",
   "metadata": {},
   "source": [
    "## 19) Tic Tac Toe Draw"
   ]
  },
  {
   "cell_type": "markdown",
   "metadata": {},
   "source": [
    "The next logical step is to deal with handling user input. When a player (say player 1, who is X) wants to place an X on the screen, they can’t just click on a terminal. So we are going to approximate this clicking simply by asking the user for a coordinate of where they want to place their piece.\n",
    "\n",
    "The computer asks Player 1 (X) what their move is (in the format row,col), and say they type 1,3. Then the game would print out\n",
    "\n",
    "game = \n",
    " \n",
    " [0, 0, X]\n",
    " \n",
    " [0, 0, 0] \n",
    " \n",
    " [0, 0, 0 ]\n",
    "    \n",
    "Bonus:\n",
    "\n",
    "For the “standard” exercise, don’t worry about “ending” the game - no need to keep track of how many squares are full. In a bonus version, keep track of how many squares are full and automatically stop asking for moves when there are no more valid moves."
   ]
  },
  {
   "cell_type": "code",
   "execution_count": 22,
   "metadata": {},
   "outputs": [
    {
     "name": "stdout",
     "output_type": "stream",
     "text": [
      "This is a game of tic-tac-toe, here is the board, player 1 will be X and player 2 will be O. Player 1 will go\n",
      "first, please enter choice as (row,column), where (1,1) refers to top left and (3,3) refers to bottom right.\n",
      "--- --- --- \n",
      "| X | X | X | X \n",
      " --- --- ---\n"
     ]
    },
    {
     "ename": "KeyboardInterrupt",
     "evalue": "",
     "output_type": "error",
     "traceback": [
      "\u001b[0;31m---------------------------------------------------------------------------\u001b[0m",
      "\u001b[0;31mKeyboardInterrupt\u001b[0m                         Traceback (most recent call last)",
      "\u001b[0;32m~/anaconda3/lib/python3.7/site-packages/ipykernel/kernelbase.py\u001b[0m in \u001b[0;36m_input_request\u001b[0;34m(self, prompt, ident, parent, password)\u001b[0m\n\u001b[1;32m    884\u001b[0m             \u001b[0;32mtry\u001b[0m\u001b[0;34m:\u001b[0m\u001b[0;34m\u001b[0m\u001b[0;34m\u001b[0m\u001b[0m\n\u001b[0;32m--> 885\u001b[0;31m                 \u001b[0mident\u001b[0m\u001b[0;34m,\u001b[0m \u001b[0mreply\u001b[0m \u001b[0;34m=\u001b[0m \u001b[0mself\u001b[0m\u001b[0;34m.\u001b[0m\u001b[0msession\u001b[0m\u001b[0;34m.\u001b[0m\u001b[0mrecv\u001b[0m\u001b[0;34m(\u001b[0m\u001b[0mself\u001b[0m\u001b[0;34m.\u001b[0m\u001b[0mstdin_socket\u001b[0m\u001b[0;34m,\u001b[0m \u001b[0;36m0\u001b[0m\u001b[0;34m)\u001b[0m\u001b[0;34m\u001b[0m\u001b[0;34m\u001b[0m\u001b[0m\n\u001b[0m\u001b[1;32m    886\u001b[0m             \u001b[0;32mexcept\u001b[0m \u001b[0mException\u001b[0m\u001b[0;34m:\u001b[0m\u001b[0;34m\u001b[0m\u001b[0;34m\u001b[0m\u001b[0m\n",
      "\u001b[0;32m~/anaconda3/lib/python3.7/site-packages/jupyter_client/session.py\u001b[0m in \u001b[0;36mrecv\u001b[0;34m(self, socket, mode, content, copy)\u001b[0m\n\u001b[1;32m    802\u001b[0m         \u001b[0;32mtry\u001b[0m\u001b[0;34m:\u001b[0m\u001b[0;34m\u001b[0m\u001b[0;34m\u001b[0m\u001b[0m\n\u001b[0;32m--> 803\u001b[0;31m             \u001b[0mmsg_list\u001b[0m \u001b[0;34m=\u001b[0m \u001b[0msocket\u001b[0m\u001b[0;34m.\u001b[0m\u001b[0mrecv_multipart\u001b[0m\u001b[0;34m(\u001b[0m\u001b[0mmode\u001b[0m\u001b[0;34m,\u001b[0m \u001b[0mcopy\u001b[0m\u001b[0;34m=\u001b[0m\u001b[0mcopy\u001b[0m\u001b[0;34m)\u001b[0m\u001b[0;34m\u001b[0m\u001b[0;34m\u001b[0m\u001b[0m\n\u001b[0m\u001b[1;32m    804\u001b[0m         \u001b[0;32mexcept\u001b[0m \u001b[0mzmq\u001b[0m\u001b[0;34m.\u001b[0m\u001b[0mZMQError\u001b[0m \u001b[0;32mas\u001b[0m \u001b[0me\u001b[0m\u001b[0;34m:\u001b[0m\u001b[0;34m\u001b[0m\u001b[0;34m\u001b[0m\u001b[0m\n",
      "\u001b[0;32m~/anaconda3/lib/python3.7/site-packages/zmq/sugar/socket.py\u001b[0m in \u001b[0;36mrecv_multipart\u001b[0;34m(self, flags, copy, track)\u001b[0m\n\u001b[1;32m    474\u001b[0m         \"\"\"\n\u001b[0;32m--> 475\u001b[0;31m         \u001b[0mparts\u001b[0m \u001b[0;34m=\u001b[0m \u001b[0;34m[\u001b[0m\u001b[0mself\u001b[0m\u001b[0;34m.\u001b[0m\u001b[0mrecv\u001b[0m\u001b[0;34m(\u001b[0m\u001b[0mflags\u001b[0m\u001b[0;34m,\u001b[0m \u001b[0mcopy\u001b[0m\u001b[0;34m=\u001b[0m\u001b[0mcopy\u001b[0m\u001b[0;34m,\u001b[0m \u001b[0mtrack\u001b[0m\u001b[0;34m=\u001b[0m\u001b[0mtrack\u001b[0m\u001b[0;34m)\u001b[0m\u001b[0;34m]\u001b[0m\u001b[0;34m\u001b[0m\u001b[0;34m\u001b[0m\u001b[0m\n\u001b[0m\u001b[1;32m    476\u001b[0m         \u001b[0;31m# have first part already, only loop while more to receive\u001b[0m\u001b[0;34m\u001b[0m\u001b[0;34m\u001b[0m\u001b[0;34m\u001b[0m\u001b[0m\n",
      "\u001b[0;32mzmq/backend/cython/socket.pyx\u001b[0m in \u001b[0;36mzmq.backend.cython.socket.Socket.recv\u001b[0;34m()\u001b[0m\n",
      "\u001b[0;32mzmq/backend/cython/socket.pyx\u001b[0m in \u001b[0;36mzmq.backend.cython.socket.Socket.recv\u001b[0;34m()\u001b[0m\n",
      "\u001b[0;32mzmq/backend/cython/socket.pyx\u001b[0m in \u001b[0;36mzmq.backend.cython.socket._recv_copy\u001b[0;34m()\u001b[0m\n",
      "\u001b[0;32m~/anaconda3/lib/python3.7/site-packages/zmq/backend/cython/checkrc.pxd\u001b[0m in \u001b[0;36mzmq.backend.cython.checkrc._check_rc\u001b[0;34m()\u001b[0m\n",
      "\u001b[0;31mKeyboardInterrupt\u001b[0m: ",
      "\nDuring handling of the above exception, another exception occurred:\n",
      "\u001b[0;31mKeyboardInterrupt\u001b[0m                         Traceback (most recent call last)",
      "\u001b[0;32m<ipython-input-22-7345b85e89fb>\u001b[0m in \u001b[0;36m<module>\u001b[0;34m\u001b[0m\n\u001b[1;32m     34\u001b[0m     \u001b[0;32mreturn\u001b[0m\u001b[0;34m\u001b[0m\u001b[0;34m\u001b[0m\u001b[0m\n\u001b[1;32m     35\u001b[0m \u001b[0;34m\u001b[0m\u001b[0m\n\u001b[0;32m---> 36\u001b[0;31m \u001b[0mtic_tac_toe\u001b[0m\u001b[0;34m(\u001b[0m\u001b[0;34m)\u001b[0m\u001b[0;34m\u001b[0m\u001b[0;34m\u001b[0m\u001b[0m\n\u001b[0m\u001b[1;32m     37\u001b[0m \u001b[0;34m\u001b[0m\u001b[0m\n\u001b[1;32m     38\u001b[0m \u001b[0;34m\u001b[0m\u001b[0m\n",
      "\u001b[0;32m<ipython-input-22-7345b85e89fb>\u001b[0m in \u001b[0;36mtic_tac_toe\u001b[0;34m()\u001b[0m\n\u001b[1;32m      6\u001b[0m \u001b[0;34m\u001b[0m\u001b[0m\n\u001b[1;32m      7\u001b[0m \u001b[0;34m\u001b[0m\u001b[0m\n\u001b[0;32m----> 8\u001b[0;31m     \u001b[0minput\u001b[0m\u001b[0;34m(\u001b[0m\u001b[0;34m\"Player 1, please select a square: \"\u001b[0m\u001b[0;34m)\u001b[0m\u001b[0;34m\u001b[0m\u001b[0;34m\u001b[0m\u001b[0m\n\u001b[0m\u001b[1;32m      9\u001b[0m     \u001b[0;31m#Row wins:\u001b[0m\u001b[0;34m\u001b[0m\u001b[0;34m\u001b[0m\u001b[0;34m\u001b[0m\u001b[0m\n\u001b[1;32m     10\u001b[0m     \u001b[0;32mif\u001b[0m \u001b[0mtest_board\u001b[0m\u001b[0;34m[\u001b[0m\u001b[0;36m0\u001b[0m\u001b[0;34m]\u001b[0m\u001b[0;34m[\u001b[0m\u001b[0;36m0\u001b[0m\u001b[0;34m]\u001b[0m \u001b[0;34m==\u001b[0m \u001b[0mtest_board\u001b[0m\u001b[0;34m[\u001b[0m\u001b[0;36m0\u001b[0m\u001b[0;34m]\u001b[0m\u001b[0;34m[\u001b[0m\u001b[0;36m1\u001b[0m\u001b[0;34m]\u001b[0m \u001b[0;34m==\u001b[0m \u001b[0mtest_board\u001b[0m\u001b[0;34m[\u001b[0m\u001b[0;36m0\u001b[0m\u001b[0;34m]\u001b[0m\u001b[0;34m[\u001b[0m\u001b[0;36m2\u001b[0m\u001b[0;34m]\u001b[0m \u001b[0;34m==\u001b[0m \u001b[0;36m1\u001b[0m \u001b[0;32mor\u001b[0m \u001b[0mtest_board\u001b[0m\u001b[0;34m[\u001b[0m\u001b[0;36m1\u001b[0m\u001b[0;34m]\u001b[0m\u001b[0;34m[\u001b[0m\u001b[0;36m0\u001b[0m\u001b[0;34m]\u001b[0m \u001b[0;34m==\u001b[0m \u001b[0mtest_board\u001b[0m\u001b[0;34m[\u001b[0m\u001b[0;36m1\u001b[0m\u001b[0;34m]\u001b[0m\u001b[0;34m[\u001b[0m\u001b[0;36m1\u001b[0m\u001b[0;34m]\u001b[0m \u001b[0;34m==\u001b[0m \u001b[0mtest_board\u001b[0m\u001b[0;34m[\u001b[0m\u001b[0;36m1\u001b[0m\u001b[0;34m]\u001b[0m\u001b[0;34m[\u001b[0m\u001b[0;36m2\u001b[0m\u001b[0;34m]\u001b[0m \u001b[0;34m==\u001b[0m \u001b[0;36m1\u001b[0m \u001b[0;32mor\u001b[0m \u001b[0mtest_board\u001b[0m\u001b[0;34m[\u001b[0m\u001b[0;36m2\u001b[0m\u001b[0;34m]\u001b[0m\u001b[0;34m[\u001b[0m\u001b[0;36m0\u001b[0m\u001b[0;34m]\u001b[0m \u001b[0;34m==\u001b[0m \u001b[0mtest_board\u001b[0m\u001b[0;34m[\u001b[0m\u001b[0;36m2\u001b[0m\u001b[0;34m]\u001b[0m\u001b[0;34m[\u001b[0m\u001b[0;36m1\u001b[0m\u001b[0;34m]\u001b[0m \u001b[0;34m==\u001b[0m \u001b[0mtest_board\u001b[0m\u001b[0;34m[\u001b[0m\u001b[0;36m2\u001b[0m\u001b[0;34m]\u001b[0m\u001b[0;34m[\u001b[0m\u001b[0;36m2\u001b[0m\u001b[0;34m]\u001b[0m \u001b[0;34m==\u001b[0m \u001b[0;36m1\u001b[0m\u001b[0;34m:\u001b[0m\u001b[0;34m\u001b[0m\u001b[0;34m\u001b[0m\u001b[0m\n",
      "\u001b[0;32m~/anaconda3/lib/python3.7/site-packages/ipykernel/kernelbase.py\u001b[0m in \u001b[0;36mraw_input\u001b[0;34m(self, prompt)\u001b[0m\n\u001b[1;32m    858\u001b[0m             \u001b[0mself\u001b[0m\u001b[0;34m.\u001b[0m\u001b[0m_parent_ident\u001b[0m\u001b[0;34m,\u001b[0m\u001b[0;34m\u001b[0m\u001b[0;34m\u001b[0m\u001b[0m\n\u001b[1;32m    859\u001b[0m             \u001b[0mself\u001b[0m\u001b[0;34m.\u001b[0m\u001b[0m_parent_header\u001b[0m\u001b[0;34m,\u001b[0m\u001b[0;34m\u001b[0m\u001b[0;34m\u001b[0m\u001b[0m\n\u001b[0;32m--> 860\u001b[0;31m             \u001b[0mpassword\u001b[0m\u001b[0;34m=\u001b[0m\u001b[0;32mFalse\u001b[0m\u001b[0;34m,\u001b[0m\u001b[0;34m\u001b[0m\u001b[0;34m\u001b[0m\u001b[0m\n\u001b[0m\u001b[1;32m    861\u001b[0m         )\n\u001b[1;32m    862\u001b[0m \u001b[0;34m\u001b[0m\u001b[0m\n",
      "\u001b[0;32m~/anaconda3/lib/python3.7/site-packages/ipykernel/kernelbase.py\u001b[0m in \u001b[0;36m_input_request\u001b[0;34m(self, prompt, ident, parent, password)\u001b[0m\n\u001b[1;32m    888\u001b[0m             \u001b[0;32mexcept\u001b[0m \u001b[0mKeyboardInterrupt\u001b[0m\u001b[0;34m:\u001b[0m\u001b[0;34m\u001b[0m\u001b[0;34m\u001b[0m\u001b[0m\n\u001b[1;32m    889\u001b[0m                 \u001b[0;31m# re-raise KeyboardInterrupt, to truncate traceback\u001b[0m\u001b[0;34m\u001b[0m\u001b[0;34m\u001b[0m\u001b[0;34m\u001b[0m\u001b[0m\n\u001b[0;32m--> 890\u001b[0;31m                 \u001b[0;32mraise\u001b[0m \u001b[0mKeyboardInterrupt\u001b[0m\u001b[0;34m\u001b[0m\u001b[0;34m\u001b[0m\u001b[0m\n\u001b[0m\u001b[1;32m    891\u001b[0m             \u001b[0;32melse\u001b[0m\u001b[0;34m:\u001b[0m\u001b[0;34m\u001b[0m\u001b[0;34m\u001b[0m\u001b[0m\n\u001b[1;32m    892\u001b[0m                 \u001b[0;32mbreak\u001b[0m\u001b[0;34m\u001b[0m\u001b[0;34m\u001b[0m\u001b[0m\n",
      "\u001b[0;31mKeyboardInterrupt\u001b[0m: "
     ]
    }
   ],
   "source": [
    "##INCOMPLETE\n",
    "\n",
    "#Function works for gameboard of 3x3 only\n",
    "def tic_tac_toe():\n",
    "    \n",
    "    #Printing blank game board\n",
    "    print(\"This is a game of tic-tac-toe, here is the board, player 1 will be X and player 2 will be O. Player 1 will go\" + \"\\n\" + \"first, please enter choice as (row,column), where (1,1) refers to top left and (3,3) refers to bottom right.\")\n",
    "    line1 == str(\"--- --- ---\")\n",
    "    line2 == str(\"--- \" * 3)\n",
    "    line3 == str(\"--- \" * 3)\n",
    "    line4 == str(\"--- \" * 3)\n",
    "    line5 == str(\"--- \" * 3)\n",
    "    line6 == str(\"--- \" * 3)\n",
    "    line7 == str(\"--- \" * 3)\n",
    "    \n",
    "    \n",
    "    print(\"| X \"*(4))\n",
    "        print(\" ---\"*3)\n",
    "   \n",
    "    \n",
    "    input(\"Player 1, please select a square: \")\n",
    "    #Row wins:\n",
    "    if test_board[0][0] == test_board[0][1] == test_board[0][2] == 1 or test_board[1][0] == test_board[1][1] == test_board[1][2] == 1 or test_board[2][0] == test_board[2][1] == test_board[2][2] == 1:\n",
    "        print(\"Player 1 wins via rows.\")\n",
    "        game == 1\n",
    "    elif test_board[0][0] == test_board[0][1] == test_board[0][2] == 2 or test_board[1][0] == test_board[1][1] == test_board[1][2] == 2 or test_board[2][0] == test_board[2][1] == test_board[2][2] == 2:\n",
    "        print(\"Player 2 wins via rows.\")\n",
    "        game == 1\n",
    "            \n",
    "    #Column wins:\n",
    "    if test_board[0][0] == test_board[1][0] == test_board[2][0] == 1 or test_board[0][1] == test_board[1][1] == test_board[2][1] == 1 or test_board[0][2] == test_board[1][2] == test_board[2][2] ==1:\n",
    "        print(\"Player 1 wins via columns.\")\n",
    "        game == 1\n",
    "    elif test_board[0][0] == test_board[1][0] == test_board[2][0] == 2 or test_board[0][1] == test_board[1][1] == test_board[2][1] == 2 or test_board[0][2] == test_board[1][2] == test_board[2][2] ==2:\n",
    "        print(\"Player 2 wins via columns.\")\n",
    "        game == 1\n",
    "        \n",
    "    #Diagonal wins:\n",
    "    if test_board[0][0] == test_board[1][1] == test_board[2][2] == 1 or test_board[0][2] == test_board[1][1] == test_board[2][0] == 1:\n",
    "        print(\"Player 1 wins via diagonals.\")\n",
    "        game == 1\n",
    "    elif test_board[0][0] == test_board[1][1] == test_board[2][2] == 2 or test_board[0][2] == test_board[1][1] == test_board[2][0] == 2:\n",
    "        print(\"Player 2 wins via diagonals.\")\n",
    "        game == 1\n",
    "    \n",
    "    \n",
    "    return\n",
    "\n",
    "tic_tac_toe()\n",
    "        \n",
    "\n",
    "\n"
   ]
  },
  {
   "cell_type": "markdown",
   "metadata": {},
   "source": [
    "## 20) Pick Word"
   ]
  },
  {
   "cell_type": "markdown",
   "metadata": {},
   "source": [
    "In this exercise, the task is to write a function that picks a random word from a list of words from the SOWPODS dictionary. Download this file and save it in the same directory as your Python code. This file is Peter Norvig’s compilation of the dictionary of words used in professional Scrabble tournaments. Each line in the file contains a single word.\n",
    "\n",
    "Hint: use the Python random library for picking a random word."
   ]
  },
  {
   "cell_type": "code",
   "execution_count": 25,
   "metadata": {},
   "outputs": [
    {
     "name": "stdout",
     "output_type": "stream",
     "text": [
      "The randomly selected word is: \n",
      "haylage\n",
      "\n",
      "\n",
      "The randomly selected word is: \n",
      "kneads\n",
      "\n",
      "\n",
      "The randomly selected word is: \n",
      "wadis\n",
      "\n",
      "\n",
      "The randomly selected word is: \n",
      "grabbed\n",
      "\n",
      "\n",
      "The randomly selected word is: \n",
      "intermodal\n",
      "\n",
      "\n",
      "The randomly selected word is: \n",
      "marathoner\n",
      "\n",
      "\n",
      "The randomly selected word is: \n",
      "dystopians\n",
      "\n",
      "\n",
      "The randomly selected word is: \n",
      "detrital\n",
      "\n",
      "\n",
      "The randomly selected word is: \n",
      "lobelia\n",
      "\n",
      "\n",
      "The randomly selected word is: \n",
      "aristocrats\n",
      "\n",
      "\n"
     ]
    }
   ],
   "source": [
    "import requests\n",
    "import random\n",
    "\n",
    "url = \"https://norvig.com/ngrams/sowpods.txt\"\n",
    "r1 = requests.get(url)\n",
    "save_name = \"Scrabble\"\n",
    "with open(save_name,'wb') as file:\n",
    "    file.write(r1.content)\n",
    "\n",
    "def pick_word():\n",
    "    with open(\"Scrabble\", \"r\") as file:\n",
    "        lst = file.read().splitlines()\n",
    "        for i in range(0,len(lst)):\n",
    "            lst[i] = lst[i].lower()\n",
    "        lstlen = len(lst)\n",
    "        randomnum = random.randint(0,lstlen)\n",
    "        print(\"The randomly selected word is: \")\n",
    "      \n",
    "        return lst[randomnum]\n",
    "\n",
    "\n",
    "for i in range(0,10):\n",
    "    print(pick_word())\n",
    "    print(\"\\n\")"
   ]
  },
  {
   "cell_type": "markdown",
   "metadata": {},
   "source": [
    "## 21) Guess Letters"
   ]
  },
  {
   "cell_type": "markdown",
   "metadata": {},
   "source": [
    "Let’s continue building Hangman. In the game of Hangman, a clue word is given by the program that the player has to guess, letter by letter. The player guesses one letter at a time until the entire word has been guessed. (In the actual game, the player can only guess 6 letters incorrectly before losing).\n",
    "\n",
    "Let’s say the word the player has to guess is “EVAPORATE”. For this exercise, write the logic that asks a player to guess a letter and displays letters in the clue word that were guessed correctly. For now, let the player guess an infinite number of times until they get the entire word. As a bonus, keep track of the letters the player guessed and display a different message if the player tries to guess that letter again. Remember to stop the game when all the letters have been guessed correctly! Don’t worry about choosing a word randomly or keeping track of the number of guesses the player has remaining - we will deal with those in a future exercise.\n",
    "\n",
    "An example interaction can look like this:\n",
    "\n",
    ">>> Welcome to Hangman!\n",
    "_ _ _ _ _ _ _ _ _\n",
    ">>> Guess your letter: S\n",
    "Incorrect!\n",
    ">>> Guess your letter: E\n",
    "E _ _ _ _ _ _ _ E\n",
    "\n",
    "\n",
    "...\n",
    "And so on, until the player gets the word."
   ]
  },
  {
   "cell_type": "code",
   "execution_count": 61,
   "metadata": {},
   "outputs": [
    {
     "name": "stdout",
     "output_type": "stream",
     "text": [
      "Welcome to the game of Hangman! To play, begin by guessing letters until the entire word is revealed.\n",
      "\n",
      "\n",
      "The word:\n",
      "_ _ _ _ _ _ _ _ \n",
      "\n",
      "\n",
      "next letter: e\n",
      "\n",
      "\n",
      "E _ E _ _ _ _ _ \n",
      "next letter: x\n",
      "\n",
      "\n",
      "that letter is not in the word, please guess again.\n",
      "E _ E _ _ _ _ _ \n",
      "next letter: l\n",
      "\n",
      "\n",
      "E L E _ _ _ _ _ \n",
      "next letter: n\n",
      "\n",
      "\n",
      "E L E _ _ _ N _ \n",
      "next letter: t\n",
      "\n",
      "\n",
      "E L E _ _ _ N T \n",
      "next letter: p\n",
      "\n",
      "\n",
      "E L E P _ _ N T \n",
      "next letter: h\n",
      "\n",
      "\n",
      "E L E P H _ N T \n",
      "next letter: x\n",
      "\n",
      "\n",
      "You already guessed that letter!\n",
      "E L E P H _ N T \n",
      "next letter: a\n",
      "\n",
      "\n",
      "Nice job!\n",
      "E L E P H A N T \n"
     ]
    }
   ],
   "source": [
    "def Hangman(word):\n",
    "    print(\"Welcome to the game of Hangman! To play, begin by guessing letters until the entire word is revealed.\")\n",
    "    print(\"\\n\")\n",
    "    print(\"The word:\")   \n",
    "    word = word.upper()\n",
    "    \n",
    "    #turns word into a list for easier manipulation\n",
    "    word = list(word)\n",
    "    \n",
    "    #create the hidden letter template\n",
    "    lst1 = []\n",
    "    for i in word:\n",
    "        lst1.append(\"_\")\n",
    "        lst1.append(\" \")\n",
    "    print(\"\".join(lst1))\n",
    "    print(\"\\n\")\n",
    "    \n",
    "    guessed = []\n",
    "    \n",
    "    \n",
    "    while True:\n",
    "        letter = str(input(\"next letter: \"))\n",
    "        print(\"\\n\")\n",
    "        letter = letter.upper()\n",
    "        \n",
    "        if letter in word and letter not in guessed: \n",
    "            for i in word:\n",
    "                pos = [i for i, x in enumerate(word) if x == letter]\n",
    "            for i in pos:\n",
    "                lst1[i*2] = letter\n",
    "            guessed.append(letter)\n",
    "\n",
    "        elif letter not in word and letter in guessed:\n",
    "            print(\"You already guessed that letter!\")\n",
    "        if letter not in word and letter not in guessed:\n",
    "            print(\"that letter is not in the word, please guess again.\")\n",
    "            guessed.append(letter)\n",
    "        if \"_\" not in lst1:\n",
    "            print(\"Nice job!\")\n",
    "            print(\"\".join(lst1))\n",
    "            break\n",
    "    \n",
    "        print(\"\".join(lst1))\n",
    "            \n",
    "    \n",
    "Hangman(\"elephant\")"
   ]
  },
  {
   "cell_type": "markdown",
   "metadata": {},
   "source": [
    "## 22) Hangman"
   ]
  },
  {
   "cell_type": "markdown",
   "metadata": {},
   "source": [
    "In this exercise, we will finish building Hangman. In the game of Hangman, the player only has 6 incorrect guesses (head, body, 2 legs, and 2 arms) before they lose the game.\n",
    "\n",
    "In Part 1, we loaded a random word list and picked a word from it. In Part 2, we wrote the logic for guessing the letter and displaying that information to the user. In this exercise, we have to put it all together and add logic for handling guesses.\n",
    "\n",
    "Copy your code from Parts 1 and 2 into a new file as a starting point. Now add the following features:\n",
    "\n",
    "Only let the user guess 6 times, and tell the user how many guesses they have left.\n",
    "Keep track of the letters the user guessed. If the user guesses a letter they already guessed, don’t penalize them - let them guess again.\n",
    "Optional additions:\n",
    "\n",
    "When the player wins or loses, let them start a new game.\n",
    "Rather than telling the user \"You have 4 incorrect guesses left\", display some picture art for the Hangman. This is challenging - do the other parts of the exercise first!\n"
   ]
  },
  {
   "cell_type": "code",
   "execution_count": null,
   "metadata": {},
   "outputs": [],
   "source": [
    "\n"
   ]
  },
  {
   "cell_type": "code",
   "execution_count": 93,
   "metadata": {},
   "outputs": [
    {
     "name": "stdout",
     "output_type": "stream",
     "text": [
      "Welcome to the game of Hangman! To play, begin by guessing letters until the entire word is revealed.\n",
      "\n",
      "\n",
      "The word:\n",
      "_ _ _ _ _ _ _ \n",
      "\n",
      "\n",
      "    ____ \n",
      "    |  | \n",
      "       | \n",
      "       | \n",
      "       | \n",
      " --------\n",
      "Previous guesses: []\n",
      "next letter: a\n",
      "\n",
      "\n",
      "that letter is not in the word, please guess again.\n",
      "    ____ \n",
      "    |  | \n",
      "    O  | \n",
      "       | \n",
      "       | \n",
      " --------\n",
      "_ _ _ _ _ _ _ \n",
      "Previous guesses: ['A']\n",
      "next letter: b\n",
      "\n",
      "\n",
      "that letter is not in the word, please guess again.\n",
      "    ____ \n",
      "    |  | \n",
      "    O  | \n",
      "    |  | \n",
      "       | \n",
      " --------\n",
      "_ _ _ _ _ _ _ \n",
      "Previous guesses: ['A', 'B']\n",
      "next letter: e\n",
      "\n",
      "\n",
      "that letter is not in the word, please guess again.\n",
      "    ____ \n",
      "    |  | \n",
      "    O  | \n",
      "   /|  | \n",
      "       | \n",
      " --------\n",
      "_ _ _ _ _ _ _ \n",
      "Previous guesses: ['A', 'B', 'E']\n",
      "next letter: i\n",
      "\n",
      "\n",
      "_ _ _ _ I _ _ \n",
      "Previous guesses: ['A', 'B', 'E', 'I']\n",
      "next letter: o\n",
      "\n",
      "\n",
      "that letter is not in the word, please guess again.\n",
      "    ____ \n",
      "    |  | \n",
      "    O  | \n",
      "   /|\\ | \n",
      "       | \n",
      " --------\n",
      "_ _ _ _ I _ _ \n",
      "Previous guesses: ['A', 'B', 'E', 'I', 'O']\n",
      "next letter: u\n",
      "\n",
      "\n",
      "_ _ U _ I _ _ \n",
      "Previous guesses: ['A', 'B', 'E', 'I', 'O', 'U']\n",
      "next letter: x\n",
      "\n",
      "\n",
      "that letter is not in the word, please guess again.\n",
      "    ____ \n",
      "    |  | \n",
      "    O  | \n",
      "   /|\\ | \n",
      "   /   | \n",
      " --------\n",
      "_ _ U _ I _ _ \n",
      "Previous guesses: ['A', 'B', 'E', 'I', 'O', 'U', 'X']\n",
      "next letter: b\n",
      "\n",
      "\n",
      "You've already guessed that letter!\n",
      "_ _ U _ I _ _ \n",
      "Previous guesses: ['A', 'B', 'E', 'I', 'O', 'U', 'X']\n",
      "next letter: t\n",
      "\n",
      "\n",
      "that letter is not in the word, please guess again.\n",
      "    ____ \n",
      "    |  | \n",
      "    O  | \n",
      "   /|\\ | \n",
      "   / \\ | \n",
      " --------\n",
      "_ _ U _ I _ _ \n",
      "\n",
      "\n",
      "Sorry, you ran out of guesses, you lost!\n",
      "Would you like to play again? (y/n)y\n",
      "\n",
      "\n",
      "\n",
      "\n",
      "Welcome to the game of Hangman! To play, begin by guessing letters until the entire word is revealed.\n",
      "\n",
      "\n",
      "The word:\n",
      "_ _ _ _ _ \n",
      "\n",
      "\n",
      "    ____ \n",
      "    |  | \n",
      "       | \n",
      "       | \n",
      "       | \n",
      " --------\n",
      "Previous guesses: []\n",
      "next letter: a\n",
      "\n",
      "\n",
      "that letter is not in the word, please guess again.\n",
      "    ____ \n",
      "    |  | \n",
      "    O  | \n",
      "       | \n",
      "       | \n",
      " --------\n",
      "_ _ _ _ _ \n",
      "Previous guesses: ['A']\n",
      "next letter: e\n",
      "\n",
      "\n",
      "_ _ _ _ E \n",
      "Previous guesses: ['A', 'E']\n",
      "next letter: i\n",
      "\n",
      "\n",
      "_ I _ _ E \n",
      "Previous guesses: ['A', 'E', 'I']\n",
      "next letter: o\n",
      "\n",
      "\n",
      "that letter is not in the word, please guess again.\n",
      "    ____ \n",
      "    |  | \n",
      "    O  | \n",
      "    |  | \n",
      "       | \n",
      " --------\n",
      "_ I _ _ E \n",
      "Previous guesses: ['A', 'E', 'I', 'O']\n",
      "next letter: b\n",
      "\n",
      "\n",
      "that letter is not in the word, please guess again.\n",
      "    ____ \n",
      "    |  | \n",
      "    O  | \n",
      "   /|  | \n",
      "       | \n",
      " --------\n",
      "_ I _ _ E \n",
      "Previous guesses: ['A', 'E', 'I', 'O', 'B']\n",
      "next letter: v\n",
      "\n",
      "\n",
      "that letter is not in the word, please guess again.\n",
      "    ____ \n",
      "    |  | \n",
      "    O  | \n",
      "   /|\\ | \n",
      "       | \n",
      " --------\n",
      "_ I _ _ E \n",
      "Previous guesses: ['A', 'E', 'I', 'O', 'B', 'V']\n",
      "next letter: h\n",
      "\n",
      "\n",
      "that letter is not in the word, please guess again.\n",
      "    ____ \n",
      "    |  | \n",
      "    O  | \n",
      "   /|\\ | \n",
      "   /   | \n",
      " --------\n",
      "_ I _ _ E \n",
      "Previous guesses: ['A', 'E', 'I', 'O', 'B', 'V', 'H']\n",
      "next letter: a\n",
      "\n",
      "\n",
      "You've already guessed that letter!\n",
      "_ I _ _ E \n",
      "Previous guesses: ['A', 'E', 'I', 'O', 'B', 'V', 'H']\n",
      "next letter: t\n",
      "\n",
      "\n",
      "that letter is not in the word, please guess again.\n",
      "    ____ \n",
      "    |  | \n",
      "    O  | \n",
      "   /|\\ | \n",
      "   / \\ | \n",
      " --------\n",
      "_ I _ _ E \n",
      "\n",
      "\n",
      "Sorry, you ran out of guesses, you lost!\n",
      "Would you like to play again? (y/n)n\n",
      "Thanks for playing!\n"
     ]
    }
   ],
   "source": [
    "import requests\n",
    "import random\n",
    "\n",
    "#First part generates a random word from the given file list (previous code)\n",
    "url = \"https://norvig.com/ngrams/sowpods.txt\"\n",
    "r1 = requests.get(url)\n",
    "save_name = \"Scrabble\"\n",
    "with open(save_name,'wb') as file:\n",
    "    file.write(r1.content)\n",
    "\n",
    "def pick_word():\n",
    "    with open(\"Scrabble\", \"r\") as file:\n",
    "        lst = file.read().splitlines()\n",
    "        for i in range(0,len(lst)):\n",
    "            lst[i] = lst[i].lower()\n",
    "        lstlen = len(lst)\n",
    "        randomnum = random.randint(0,lstlen)\n",
    "        return str(lst[randomnum])\n",
    "\n",
    "    \n",
    "def Hangman(word):\n",
    "    print(\"Welcome to the game of Hangman! To play, begin by guessing letters until the entire word is revealed.\")\n",
    "    print(\"\\n\")\n",
    "    print(\"The word:\")   \n",
    "    word = word.upper()\n",
    "    \n",
    "    #Turns word into a list for easier manipulation:\n",
    "    word = list(word)\n",
    "    \n",
    "    #Create the hidden letter template:\n",
    "    lst1 = []\n",
    "    for i in word:\n",
    "        lst1.append(\"_\")\n",
    "        lst1.append(\" \")\n",
    "    print(\"\".join(lst1))\n",
    "    print(\"\\n\")\n",
    "    \n",
    "    \n",
    "    #Hangman visual progression:\n",
    "    def hang0():\n",
    "        print(\"    ____ \")\n",
    "        print(\"    |  | \")\n",
    "        print(\"       | \")\n",
    "        print(\"       | \")\n",
    "        print(\"       | \")\n",
    "        print(\" --------\")\n",
    "        return\n",
    "\n",
    "\n",
    "    def hang1():\n",
    "        print(\"    ____ \")\n",
    "        print(\"    |  | \")\n",
    "        print(\"    O  | \")\n",
    "        print(\"       | \")\n",
    "        print(\"       | \")\n",
    "        print(\" --------\")\n",
    "        return\n",
    "\n",
    "    def hang2():\n",
    "        print(\"    ____ \")\n",
    "        print(\"    |  | \")\n",
    "        print(\"    O  | \")\n",
    "        print(\"    |  | \")\n",
    "        print(\"       | \")\n",
    "        print(\" --------\")\n",
    "        return\n",
    "\n",
    "    def hang3():\n",
    "        print(\"    ____ \")\n",
    "        print(\"    |  | \")\n",
    "        print(\"    O  | \")\n",
    "        print(\"   /|  | \")\n",
    "        print(\"       | \")\n",
    "        print(\" --------\")\n",
    "        return\n",
    "\n",
    "    def hang4():\n",
    "        print(\"    ____ \")\n",
    "        print(\"    |  | \")\n",
    "        print(\"    O  | \")\n",
    "        print(\"   /|\\ | \")\n",
    "        print(\"       | \")\n",
    "        print(\" --------\")\n",
    "        return\n",
    "\n",
    "    def hang5():\n",
    "        print(\"    ____ \")\n",
    "        print(\"    |  | \")\n",
    "        print(\"    O  | \")\n",
    "        print(\"   /|\\ | \")\n",
    "        print(\"   /   | \")\n",
    "        print(\" --------\")\n",
    "        return\n",
    "\n",
    "    def hang6():\n",
    "        print(\"    ____ \")\n",
    "        print(\"    |  | \")\n",
    "        print(\"    O  | \")\n",
    "        print(\"   /|\\ | \")\n",
    "        print(\"   / \\ | \")\n",
    "        print(\" --------\")\n",
    "        return\n",
    "\n",
    "    functions = [hang0,hang1,hang2,hang3,hang4,hang5,hang6]\n",
    "\n",
    "\n",
    "    #The game:\n",
    "    guessed = []\n",
    "    chances = 0\n",
    "    if chances == 0:\n",
    "        functions[0]()\n",
    "    \n",
    "    while chances < 6:\n",
    "        print(\"Previous guesses: \" + str(guessed))\n",
    "        letter = str(input(\"next letter: \"))\n",
    "        print(\"\\n\")\n",
    "        letter = letter.upper()\n",
    "\n",
    "        if letter in word and letter not in guessed: \n",
    "            for i in word:\n",
    "                pos = [i for i, x in enumerate(word) if x == letter]\n",
    "            for i in pos:\n",
    "                lst1[i*2] = letter\n",
    "            guessed.append(letter)\n",
    "\n",
    "        elif letter not in word and letter in guessed:\n",
    "            print(\"You've already guessed that letter!\")\n",
    "        if letter not in word and letter not in guessed:\n",
    "            print(\"that letter is not in the word, please guess again.\")\n",
    "            guessed.append(letter)\n",
    "            chances += 1\n",
    "            functions[chances]()\n",
    "        if \"_\" not in lst1:\n",
    "            print(\"Nice job!\")\n",
    "            print(\"\".join(lst1))\n",
    "            break\n",
    "\n",
    "        print(\"\".join(lst1))\n",
    "\n",
    "    #Lose condition:\n",
    "    if chances == 6 and \"_\" in lst1:\n",
    "        print(\"\\n\")\n",
    "        print(\"Sorry, you ran out of guesses, you lost!\")\n",
    "    \n",
    "    #Ask to play again after winning/losing\n",
    "    answer = input(\"Would you like to play again? (y/n)\")\n",
    "    if answer == \"y\":\n",
    "        print(\"\\n\")\n",
    "        print(\"\\n\")\n",
    "        Hangman(pick_word())\n",
    "    else:\n",
    "        print(\"Thanks for playing!\")\n",
    "        \n",
    "            \n",
    "    \n",
    "Hangman(pick_word())\n"
   ]
  },
  {
   "cell_type": "markdown",
   "metadata": {},
   "source": [
    "## 23) Birthday Json"
   ]
  },
  {
   "cell_type": "markdown",
   "metadata": {},
   "source": [
    "In the previous exercise we created a dictionary of famous scientists’ birthdays. In this exercise, modify your program from Part 1 to load the birthday dictionary from a JSON file on disk, rather than having the dictionary defined in the program.\n",
    "\n",
    "Bonus: Ask the user for another scientist’s name and birthday to add to the dictionary, and update the JSON file you have on disk with the scientist’s name. If you run the program multiple times and keep adding new names, your JSON file should keep getting bigger and bigger.\n"
   ]
  },
  {
   "cell_type": "code",
   "execution_count": 68,
   "metadata": {},
   "outputs": [],
   "source": [
    "import json\n",
    "\n",
    "json_file = {\n",
    "    \"Brenda Butternut\":\"01/16/1957\",\"Michael Zowsky\":\"02/05/1980\", \n",
    "           \"Charles Chinny\":\"11/25/2005\", \"Summer Safrity\":\"02/17/2001\"\n",
    "}\n",
    "\n",
    "\n",
    "with open(\"info.json\", \"w\") as f:\n",
    "    json.dump(json_file, f)\n"
   ]
  },
  {
   "cell_type": "code",
   "execution_count": 75,
   "metadata": {
    "scrolled": true
   },
   "outputs": [
    {
     "name": "stdout",
     "output_type": "stream",
     "text": [
      "Welcome to the birthday dictionary! Here are the names we have on file. Please enter the name of the person to retreive birthday information for. \n",
      "Brenda Butternut\n",
      "Michael Zowsky\n",
      "Charles Chinny\n",
      "Summer Safrity\n",
      "If the name is not in the list, please hit enter 'n' to create a new entry or 'c' to close the program. Summer Safrity\n",
      "{'Brenda Butternut': '01/16/1957', 'Michael Zowsky': '02/05/1980', 'Charles Chinny': '11/25/2005', 'Summer Safrity': '02/17/2001'}\n"
     ]
    }
   ],
   "source": [
    "import json\n",
    "\n",
    "def update_json():\n",
    "    with open(\"info.json\",\"r\") as f:\n",
    "        bdaydict = json.load(f)\n",
    "        print(\"Welcome to the birthday dictionary! Here are the names we have on file. Please enter the name of the person to retreive birthday information for. \" ) \n",
    "        \n",
    "        for key in bdaydict:\n",
    "            print(key)\n",
    "        \n",
    "        usrinput = input(\"If the name is not in the list, please hit enter 'n' to create a new entry or 'c' to close the program. \").lower()\n",
    "      \n",
    "        if usrinput == \"n\":\n",
    "            with open (\"info.json\",\"w\") as f2:\n",
    "                name = input(\"Please enter the name of the indivudal to enter: \").upper()\n",
    "                bday = input(\"Please enter the birthday of the indivudal to enter in the form month/day/year: \")\n",
    "\n",
    "\n",
    "                new_entry ={name:bday}\n",
    "                json.dump(new_entry,f2)\n",
    "                print(\"Done.\")\n",
    "        \n",
    "\n",
    "        elif usrinput == \"c\":\n",
    "            print(\"Goodbye.\")\n",
    "                \n",
    "\n",
    "        else:\n",
    "            if usrinput in bdaydict:\n",
    "                print(bdaydict[usrinput])\n",
    "                    \n",
    "\n",
    "    with open(\"info.json\",\"r\") as f:\n",
    "        bdaydict = json.load(f)\n",
    "        print(bdaydict)\n",
    "\n",
    "update_json()"
   ]
  },
  {
   "cell_type": "code",
   "execution_count": 73,
   "metadata": {},
   "outputs": [
    {
     "ename": "SyntaxError",
     "evalue": "invalid syntax (<ipython-input-73-0fcf4e18b6a0>, line 6)",
     "output_type": "error",
     "traceback": [
      "\u001b[0;36m  File \u001b[0;32m\"<ipython-input-73-0fcf4e18b6a0>\"\u001b[0;36m, line \u001b[0;32m6\u001b[0m\n\u001b[0;31m    \"Birthday\": bday\u001b[0m\n\u001b[0m             ^\u001b[0m\n\u001b[0;31mSyntaxError\u001b[0m\u001b[0;31m:\u001b[0m invalid syntax\n"
     ]
    }
   ],
   "source": [
    "\n",
    "    name = str(input(\"Enter the name of the scientist you would like to add to the dictionary: \"))\n",
    "    bday = str(input(\"Enter the birthday (in the form month/day/year) of the scientist: \"))\n",
    "    \n",
    "    newdict = {\n",
    "        \"Name\": name\n",
    "        \"Birthday\": bday\n",
    "    }\n",
    "    \n",
    "    with open(\"info.jason\", \"w\") as f:\n",
    "        json.dump(newdict, f)\n",
    "        \n",
    "    answer = input(\"Would you like to enter the info for another scientist (y/n)? \")\n",
    "    if answer == \"y\":\n",
    "        update_json()\n",
    "    else:\n",
    "        print(\"Goodbye.\")"
   ]
  },
  {
   "cell_type": "markdown",
   "metadata": {},
   "source": [
    "## 24) Birthday Months"
   ]
  },
  {
   "cell_type": "code",
   "execution_count": null,
   "metadata": {},
   "outputs": [],
   "source": []
  },
  {
   "cell_type": "code",
   "execution_count": null,
   "metadata": {},
   "outputs": [],
   "source": []
  },
  {
   "cell_type": "markdown",
   "metadata": {},
   "source": [
    "# Level 3 Difficulty"
   ]
  },
  {
   "cell_type": "code",
   "execution_count": null,
   "metadata": {},
   "outputs": [],
   "source": []
  },
  {
   "cell_type": "code",
   "execution_count": null,
   "metadata": {},
   "outputs": [],
   "source": []
  },
  {
   "cell_type": "code",
   "execution_count": null,
   "metadata": {},
   "outputs": [],
   "source": []
  },
  {
   "cell_type": "code",
   "execution_count": null,
   "metadata": {},
   "outputs": [],
   "source": []
  },
  {
   "cell_type": "code",
   "execution_count": null,
   "metadata": {},
   "outputs": [],
   "source": []
  },
  {
   "cell_type": "code",
   "execution_count": null,
   "metadata": {},
   "outputs": [],
   "source": []
  },
  {
   "cell_type": "code",
   "execution_count": null,
   "metadata": {},
   "outputs": [],
   "source": []
  },
  {
   "cell_type": "markdown",
   "metadata": {},
   "source": [
    "# Sandbox Space\n"
   ]
  },
  {
   "cell_type": "code",
   "execution_count": 93,
   "metadata": {},
   "outputs": [
    {
     "name": "stdout",
     "output_type": "stream",
     "text": [
      "Please enter an integer number 23\n",
      "Please enter an integer number to divide by 11\n",
      "23 is an odd number.\n",
      "Additionally, 23 can not be evenly divded by 11.\n"
     ]
    }
   ],
   "source": [
    "            print(\"The number is not in the list.\")\n",
    " print(\"The number \"+ str(search_val)+ \" is in the list.\")"
   ]
  },
  {
   "cell_type": "markdown",
   "metadata": {},
   "source": []
  },
  {
   "cell_type": "code",
   "execution_count": null,
   "metadata": {},
   "outputs": [],
   "source": []
  }
 ],
 "metadata": {
  "kernelspec": {
   "display_name": "Python 3",
   "language": "python",
   "name": "python3"
  },
  "language_info": {
   "codemirror_mode": {
    "name": "ipython",
    "version": 3
   },
   "file_extension": ".py",
   "mimetype": "text/x-python",
   "name": "python",
   "nbconvert_exporter": "python",
   "pygments_lexer": "ipython3",
   "version": "3.7.4"
  }
 },
 "nbformat": 4,
 "nbformat_minor": 2
}
